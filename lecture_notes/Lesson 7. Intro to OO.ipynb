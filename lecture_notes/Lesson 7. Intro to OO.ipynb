{
 "cells": [
  {
   "cell_type": "markdown",
   "metadata": {},
   "source": [
    "# Intro to OO (object orientation)\n",
    "* As we have seen, in addition to code reuse and implementation hiding, functions allow to perform decomposition. For small programs decomposing them into functions is usually enough to have a clear and easy to modify code. \n",
    "\n",
    "* But when working with complex programs decomposition into functions is not enough, we need to perform an extra level of decomposition: when don't usually put all the code in a single file, but divide it among several ones. There will be many files where functions are declared and a *main* file where the functions are invoked.\n",
    "\n",
    ">* Each of these files is usually called a *module*\n",
    "\n",
    "* There are two criteria that can be used to group functions into modules:\n",
    "\n",
    ">* Grouping the functions by functionality: functions that perform similar tasks are put together. As an example, in the final project we would create a module for all the functions moving characters, another one for functions drawing things, another for functions checking collisions and so on. This is known as **structured programming** or **modular programming**: functions are grouped into modules taking into account what they do.\n",
    "\n",
    ">* Grouping functions by the entity they refer to. In the final project we would put together all the functions related to Mario. Another module would contain all the functions related to the enemies. Another one could contain all the functions related to the board and so on. This is known as **object oriented** programming (OO).\n",
    "\n",
    "* OO can be seen as an evolution of structured programming, but it is a different approach: we focus on entities/objects that are relevant. In OO we put together not only the functions that are related to the same entity but also the variables related to it. \n",
    "\n",
    "* In the final project we would use a module to put all the variables and functions related to Mario, another for the enemies, etc. In OO:\n",
    "\n",
    ">* each module is called a *Class*\n",
    ">* variables characterizing each object inside a class are called *atributtes* or *fields*\n",
    ">* functions related to an object are called *methods*\n",
    "\n",
    "* Following an OO approach we analyze the problem in terms of:\n",
    "\n",
    "1.\tEntities that appear in our problem (classes/objects)\n",
    "2.\tCharacteristics of those entities or information we need to store related to them (data attributes or fields)\n",
    "3.\tThings that those entities can do (methods)\n",
    "\n",
    "# Classes\n",
    "* As a first approach a class can be seen as a kind of generic dictionary\n",
    "\n",
    ">* Remember the 3 dictionaries *mike*, *peter* and *maria* of exercises of a previous week. Even if their structure is equal we need to define them 3 times\n",
    "\n",
    "* A class is like an skeleton to create objects: is like a generic definition of the variables (which we will call attributes or fields) and the functions (which we will call methods) that an object will have\n",
    "* To define a new class we use `class NameOfTheClass`\n",
    "* Naming conventions for class names: upper camel case (see in the above line an example of a correct class name)\n",
    "* All the variables I declare inside a class are called attributes or fields: they contain the information that is important for that object\n",
    "* Name rules for attributes names: same as for variables (`this_is_a_valid_attribute_name`)\n",
    "* It is recommended to put the class in its own file, do not use the same file for different classes nor include any other function in that file"
   ]
  },
  {
   "cell_type": "code",
   "execution_count": 13,
   "metadata": {},
   "outputs": [],
   "source": [
    "# This is a class, we will specify which are the variables that\n",
    "# we will put into this class\n",
    "# We will see that creating classes this way is not quite useful\n",
    "# and that we should use a special method instead\n",
    "class Date:\n",
    "    \"\"\"This class stores all the data I need to work with dates\"\"\"\n",
    "    # These are called attributes of the class, they can be seen as\n",
    "    # if they were keys in dictionaries\n",
    "    # As we are not giving values to the fields using annotations to\n",
    "    # specify the type is compulsory\n",
    "    day: int \n",
    "    month: str\n",
    "    year: int\n",
    "    leap_year: bool"
   ]
  },
  {
   "cell_type": "markdown",
   "metadata": {},
   "source": [
    "# Objects\n",
    "* An object is a variable of a Class\n",
    "* The right way to work with objects is to create another program and import the class\n",
    "* First way: importing the file `import <file>`\n",
    "* Second way (recommended): importing the class `from <file> import <class>`\n",
    "* Class must be in our folder. To be able to import from another folder, we should create packages (we will not cover that but material will be uploaded to Aula Global)\n",
    "* To create an object: `variable_name = ClassName()`\n",
    "* Values of the fields of the new object are non defined, we need to specify them after object creation\n",
    "* To access or change the value of an attribute of an object I use *dot  notation*: `object.attribute`to see the value or `object.attribute = value` to change its value\n",
    "* What happens if we try to access a non-existing field? -> Error\n",
    "* What happens if we try to assign a value to a non-existing field? -> The field is created (as in dictionaries)\n",
    "* Do not create fields on the fly (bad programming practice, bad class design). Totally **forbidden** this course."
   ]
  },
  {
   "cell_type": "code",
   "execution_count": 14,
   "metadata": {},
   "outputs": [
    {
     "name": "stdout",
     "output_type": "stream",
     "text": [
      "2021\n",
      "November\n"
     ]
    }
   ],
   "source": [
    "# This is the way to declare a variable belonging to the Date class\n",
    "# Any variable belonging to a class is called an object: my_date is\n",
    "# an object of the Date class\n",
    "my_date = Date()\n",
    "# To give value to the attributes I use the so called \"dot notation\"\n",
    "# object.attribute = value\n",
    "# Assigning a value for the day\n",
    "my_date.day = 12\n",
    "# For the month\n",
    "my_date.month = \"November\"\n",
    "# For the year\n",
    "my_date.year = 2021\n",
    "# And for the leap_year\n",
    "my_date.leap_year = False\n",
    "# This is another object of the Date class\n",
    "another_date = Date()\n",
    "another_date.year = 2021\n",
    "# This another object too\n",
    "var3 = Date()\n",
    "# Getting the values of the attributes and printing them\n",
    "print(my_date.year)\n",
    "print(my_date.month)\n",
    "# We specified day attribute is an integer, but this is only a\n",
    "# suggestion, anything can be stored into it\n",
    "my_date.day = \"hello\""
   ]
  },
  {
   "cell_type": "markdown",
   "metadata": {},
   "source": [
    "## Some properties of objects\n",
    "* What do we get if we print an object? -> `<file.Class> object at <memory_address>` We'll see how to change it\n",
    "* What happens if we assign one object to another one? -> They are the same object (as in the case of lists) Don't do it\n",
    "* What happens if we compare two objects -> False, unless they are actually the same object. It compares the pointers not their contents. We'll see how to change it"
   ]
  },
  {
   "cell_type": "code",
   "execution_count": 15,
   "metadata": {},
   "outputs": [
    {
     "name": "stdout",
     "output_type": "stream",
     "text": [
      "<__main__.Date object at 0x000001ADA46F8730>\n",
      "<__main__.Date object at 0x000001ADA46F8970>\n",
      "The year of obj1 is 2022 it changes too\n",
      "Are my_date and var4 equal? False\n"
     ]
    }
   ],
   "source": [
    "# If I print an object I get module_name.Class at memory address\n",
    "# Not very interesting doing it\n",
    "print(my_date)\n",
    "print(another_date)\n",
    "# Copying objects\n",
    "obj1 = my_date\n",
    "my_date.year = 2022\n",
    "print(\"The year of obj1 is\", obj1.year, \"it changes too\")\n",
    "# Comparing objects\n",
    "var4 = Date()\n",
    "var4.day = 12\n",
    "var4.month = \"November\"\n",
    "var4.year = 2021\n",
    "# Are my_date and var4 equal?\n",
    "print(\"Are my_date and var4 equal?\", var4 == my_date)"
   ]
  },
  {
   "cell_type": "markdown",
   "metadata": {},
   "source": [
    "# Methods\n",
    "* A method is a function that I declare inside a class\n",
    "* Methods have always at least one parameter: the *self* parameter (we can call it whichever name we want, but `self` is the recommended one)\n",
    "* This first and compulsory parameter of a method is a special one, because it represents the whole object. It contains a link to the attributes of the object so we can work with them inside the method\n",
    "* To invoke a method I use `object_name.method_name(parameters without considering the self)`"
   ]
  },
  {
   "cell_type": "code",
   "execution_count": 16,
   "metadata": {},
   "outputs": [],
   "source": [
    "class Date:\n",
    "    \"\"\"This class stores all the data I need to work with dates\"\"\"\n",
    "    # These are called attributes of the class, they can be seen as\n",
    "    # if they were keys in dictionaries\n",
    "    day: int \n",
    "    month: str\n",
    "    year: int\n",
    "    leap_year: bool\n",
    "    \n",
    "    # This is a method of the class, it has to have at least one\n",
    "    # parameter, which usually is called self\n",
    "    def print(self)-> str:\n",
    "        \"\"\"This method returns the data of the object in a good way to print it\"\"\"\n",
    "        return \"Today is \" + self.month + \" \" + self.day + \", \" + self.year"
   ]
  },
  {
   "cell_type": "markdown",
   "metadata": {},
   "source": [
    "## The init method\n",
    "* It is one of the special or *magic* methods\n",
    "* Its purpose is to initialize the object in a complex way. We use it to declare which are the attributes of the object and also to check if the provided values make sense (this is the usual way to do it, in contrast to the way we did it in previous examples)\n",
    "* It must be called `__init__`\n",
    "* The power of *init* is that it allows me to give value to the attributes when I declare the object. I use parameters for it\n",
    "* In other languages it is known as *constructor*\n",
    "* I can use it to give by default values to the parameters too (this is optional)\n",
    "* As a general rule it must receive a parameter for each of the attributes of the object\n",
    "\n",
    ">* But if the value of any attribute can be calculated using other attributes, a parameter for that attribute is not needed"
   ]
  },
  {
   "cell_type": "code",
   "execution_count": 17,
   "metadata": {},
   "outputs": [],
   "source": [
    "# An example of a class with init method\n",
    "class Date:\n",
    "    \"\"\" A class to represent a Date, it includes a dummy init method\"\"\"\n",
    "    # Init usually has parameters with values for each of the \n",
    "    # attributes. The name of the parameter is usually the same\n",
    "    # name than the attribute, but it is not compulsory\n",
    "    def __init__(self, day:int, month: str, year: int, leap: bool):\n",
    "        \"\"\" This method both declares the attributes of the class and\n",
    "        receives the initial value of all them\"\"\"\n",
    "        # When having an init method attributes must be declared \n",
    "        # with self.name_of_attribute\n",
    "        # Here we are copying the value of each parameter into the\n",
    "        # corresponding attribute\n",
    "        self.day = day\n",
    "        self.month = month\n",
    "        self.year = year\n",
    "        self.leap_year = leap"
   ]
  },
  {
   "cell_type": "code",
   "execution_count": 18,
   "metadata": {},
   "outputs": [
    {
     "name": "stdout",
     "output_type": "stream",
     "text": [
      "2020\n",
      "november\n",
      "False\n",
      "2021\n"
     ]
    }
   ],
   "source": [
    "# When I have an init method, to create the object I need to give\n",
    "# value to each of its parameters. I cannot create an object just\n",
    "# doing obj = Date() as before\n",
    "# Python automatically invokes the init method with these parameters\n",
    "da = Date(24, \"november\", 2020, False)\n",
    "# We can check that each attribute got its value\n",
    "print(da.year)\n",
    "print(da.month)\n",
    "print(da.leap_year)\n",
    "# Of course, I can later change the value of any attribute\n",
    "da.year = 2021\n",
    "print(da.year)"
   ]
  },
  {
   "cell_type": "code",
   "execution_count": 19,
   "metadata": {},
   "outputs": [],
   "source": [
    "# An example of a class with init method and by-default values\n",
    "# Adding by default values is optional\n",
    "# We don't need to receive a value for leap_year as it can be\n",
    "# calculated\n",
    "class Date:\n",
    "    \"\"\" A class with a more complex init method\"\"\"\n",
    "    # Init usually has parameters with values for each of the \n",
    "    # attributes. The name of the parameter is usually the same\n",
    "    # name than the attribute, but it is not compulsory\n",
    "    def __init__(self, day:int = 1, month: str = \"January\",\n",
    "                 year: int = 1900):\n",
    "        \"\"\" Declares the attributes of the class and also calculates\n",
    "        the value of one of them. If no value is provided for one\n",
    "        of the parameters it takes its by-default value\"\"\"\n",
    "        # Attributes are declared with self.name_of_attribute\n",
    "        self.day = day\n",
    "        self.month = month\n",
    "        self.year = year\n",
    "        # We calculate if it is a leap_year\n",
    "        if year % 4 == 0 and (year % 100 != 0 or year % 400 == 0):\n",
    "            self.leap_year = True\n",
    "        else:\n",
    "            self.leap_year = False"
   ]
  },
  {
   "cell_type": "code",
   "execution_count": 20,
   "metadata": {},
   "outputs": [
    {
     "name": "stdout",
     "output_type": "stream",
     "text": [
      "True\n",
      "1900\n",
      "1\n"
     ]
    }
   ],
   "source": [
    "# I create an object with no value for leap_year, as it can be\n",
    "# calculated\n",
    "d2 = Date(24, \"January\", 2020)\n",
    "print(d2.leap_year)\n",
    "# As I declared by-default values for parameters (and for attributes)\n",
    "# I don't need to provide values for all of them\n",
    "# Here year and month will take their by-default values\n",
    "d3 = Date(24)\n",
    "print(d3.year)\n",
    "# If I want only the month not to have the by-default value\n",
    "d4 = Date(month = \"november\")\n",
    "print(d4.day)"
   ]
  },
  {
   "cell_type": "code",
   "execution_count": 21,
   "metadata": {},
   "outputs": [],
   "source": [
    "# An example of a class with init method and by-default values\n",
    "# that also checks that the provided values are correct\n",
    "# We don't need to receive a value for leap_year as it can be\n",
    "# calculated\n",
    "class Date:\n",
    "    \"\"\" A date class storing the day, month, year and leap year\n",
    "    of a given date. The leap year is calculated and all the values\n",
    "    are checked\"\"\"\n",
    "    # Init usually has parameters with values for each of the \n",
    "    # attributes. The name of the parameter is usually the same\n",
    "    # name than the attribute, but it is not compulsory\n",
    "    def __init__(self, day:int = 1, month: str = \"january\",\n",
    "                 year: int = 1900):\n",
    "        \"\"\" init method of the class. It checks the provided values\n",
    "        are correct. It also declares by default values in case\n",
    "        we don't want to provide values for all the attributes when\n",
    "        creating the object\"\"\"\n",
    "        # Attributes are declared with self.name_of_attribute\n",
    "        # I check the value provided for the year is correct\n",
    "        if year != 0:\n",
    "            # If it is correct, I assign it to the attribute\n",
    "            self.year = year\n",
    "        else:\n",
    "            # In any other case, I assing a safe by-default value\n",
    "            self.year = 1900\n",
    "        # I also check the month\n",
    "        # Local variable with names of the months\n",
    "        # Once the init method finishes it disappears\n",
    "        months_name = (\"january\", \"february\", \"march\", \"april\", \"may\",\n",
    "                        \"june\", \"july\", \"august\", \"september\", \"october\",\n",
    "                       \"november\", \"december\")\n",
    "        # I will put the month in lowercase              \n",
    "        if month.lower() in months_name:\n",
    "            self.month = month.lower()\n",
    "        else:\n",
    "            self.month = \"january\"\n",
    "        # I check the day is correct, to do it I declare a local\n",
    "        # variable with the days of each month\n",
    "        days_in_month = {'january':31, 'february': 28, \"march\": 31, \"april\":30,\n",
    "                         \"may\": 31, \"june\": 30, \"july\": 31, \"august\": 31,\n",
    "                         \"september\": 30, \"october\": 31, \"november\": 30,\n",
    "                         \"december\":31}\n",
    "        # I calculate the value of the leap year\n",
    "        if self.year % 4 == 0 and (self.year % 100 != 0 \n",
    "                                   or self.year % 400 == 0):\n",
    "            self.leap_year = True\n",
    "            # If it is a leap year, I change the days of February\n",
    "            days_in_month['february'] = 29\n",
    "        else:\n",
    "            self.leap_year = False\n",
    "        # Finally I use the value of the month and leap year to\n",
    "        # check if the day is correct\n",
    "        if day > 0 and day <= days_in_month[self.month]:\n",
    "            self.day = day\n",
    "        else:\n",
    "            self.day = 1        "
   ]
  },
  {
   "cell_type": "code",
   "execution_count": 22,
   "metadata": {},
   "outputs": [
    {
     "name": "stdout",
     "output_type": "stream",
     "text": [
      "The day is 1\n",
      "The month is january\n"
     ]
    }
   ],
   "source": [
    "# Creating right dates:\n",
    "# Using all the parameters\n",
    "d5 = Date(24, \"october\", 2021)\n",
    "# With no parameter\n",
    "d6 = Date()\n",
    "# Only with the year\n",
    "d7 = Date(year = 2022)\n",
    "# Creating a wrong date\n",
    "d8 = Date(33, \"mi Month\", 1996)\n",
    "print(\"The day is\", d8.day)\n",
    "print(\"The month is\", d8.month)"
   ]
  },
  {
   "cell_type": "markdown",
   "metadata": {},
   "source": [
    "# Raising exceptions\n",
    "\n",
    "* When a wrong value is received for an attribute I have two options: setting it to a *safe* value (this is what we have been doing until now) or raising an exception\n",
    "* Raising an exception means that an error will appear in my program and the program will finish\n",
    "* Whether to use one or another depends on the design: for some attributes it is better to provide safe values, for other ones it is more convenient to stop as giving a safe value can lead to problems latter if the user is not aware of it\n",
    "* The most common raised exceptions when the value is wrong are:\n",
    "\n",
    ">* `raise TypeError(error message)`: the type of the value is not the expected one\n",
    ">* `raise ValueError(error message`: the type is correct, but the value is not\n",
    "\n",
    "* The `error message` is optional\n",
    "* Exceptions make the program to stop, unless a `try-except` block is included (out of the scope of this course)"
   ]
  },
  {
   "cell_type": "code",
   "execution_count": 23,
   "metadata": {},
   "outputs": [],
   "source": [
    "# An example of a class with init method and by-default values\n",
    "# that also checks that the provided values are correct. If they\n",
    "# are not, it raises exceptions\n",
    "\n",
    "# We don't need to receive a value for leap_year as it can be\n",
    "# calculated\n",
    "class Date:\n",
    "    \"\"\" A date class storing the day, month, year and leap year\n",
    "    of a given date. The leap year is calculated and all the values\n",
    "    are checked and exceptions raised\"\"\"\n",
    "    # Init usually has parameters with values for each of the \n",
    "    # attributes. The name of the parameter is usually the same\n",
    "    # name than the attribute, but it is not compulsory\n",
    "    def __init__(self, day:int = 1, month: str = \"january\",\n",
    "                 year: int = 1900):\n",
    "        \"\"\" init method of the class. It checks the provided values\n",
    "        are correct. It also declares by default values in case\n",
    "        we don't want to provide values for all the attributes when\n",
    "        creating the object\"\"\"\n",
    "        # Attributes are declared with self.name_of_attribute\n",
    "        # I check the value provided for the year is correct\n",
    "        if type(year) != int:\n",
    "            raise TypeError(\"Year must be an integer\")\n",
    "        elif year != 0:\n",
    "            # If it is correct, I assign it to the attribute\n",
    "            self.year = year\n",
    "        else:\n",
    "            # In any other case, I raise an exception\n",
    "            raise ValueError(\"Year must be not equal to 0\")\n",
    "        # I also check the month\n",
    "        # Local variable with names of the months\n",
    "        # Once the init method finishes it disappears\n",
    "        months_name = (\"january\", \"february\", \"march\", \"april\", \"may\",\n",
    "                        \"june\", \"july\", \"august\", \"september\", \"october\",\n",
    "                       \"november\", \"december\")\n",
    "        # I will put the month in lowercase              \n",
    "        if type(month) != str:\n",
    "            raise TypeError(\"The month must be a string\")\n",
    "        elif month.lower() in months_name:\n",
    "            self.month = month.lower()\n",
    "        else:\n",
    "            raise ValueError(\"Valid months are \" + str(months_name))\n",
    "        # I check the day is correct, to do it I declare a local\n",
    "        # variable with the days of each month\n",
    "        days_in_month = {'january':31, 'february': 28, \"march\": 31, \"april\":30,\n",
    "                         \"may\": 31, \"june\": 30, \"july\": 31, \"august\": 31,\n",
    "                         \"september\": 30, \"october\": 31, \"november\": 30,\n",
    "                         \"december\":31}\n",
    "        # I calculate the value of the leap year\n",
    "        if self.year % 4 == 0 and (self.year % 100 != 0 \n",
    "                                   or self.year % 400 == 0):\n",
    "            self.leap_year = True\n",
    "            # If it is a leap year, I change the days of February\n",
    "            days_in_month['february'] = 29\n",
    "        else:\n",
    "            self.leap_year = False\n",
    "        # Finally I use the value of the month and leap year to\n",
    "        # check if the day is correct\n",
    "        if type(day) != int:\n",
    "            raise TypeError(\"The day must be an integer\")\n",
    "        elif day > 0 and day <= days_in_month[self.month]:\n",
    "            self.day = day\n",
    "        else:\n",
    "            raise ValueError(self.month + \" has only \" + str(days_in_month[self.month])\n",
    "                             + \" days in \" + str(self.year))    "
   ]
  },
  {
   "cell_type": "code",
   "execution_count": 24,
   "metadata": {},
   "outputs": [
    {
     "ename": "ValueError",
     "evalue": "february has only 28 days in 2021",
     "output_type": "error",
     "traceback": [
      "\u001b[1;31m---------------------------------------------------------------------------\u001b[0m",
      "\u001b[1;31mValueError\u001b[0m                                Traceback (most recent call last)",
      "\u001b[1;32m~\\AppData\\Local\\Temp/ipykernel_15596/3948330169.py\u001b[0m in \u001b[0;36m<module>\u001b[1;34m\u001b[0m\n\u001b[0;32m      1\u001b[0m \u001b[1;31m# Creating a wrong day\u001b[0m\u001b[1;33m\u001b[0m\u001b[1;33m\u001b[0m\u001b[1;33m\u001b[0m\u001b[0m\n\u001b[1;32m----> 2\u001b[1;33m \u001b[0mdate\u001b[0m \u001b[1;33m=\u001b[0m \u001b[0mDate\u001b[0m\u001b[1;33m(\u001b[0m\u001b[1;36m29\u001b[0m\u001b[1;33m,\u001b[0m \u001b[1;34m\"february\"\u001b[0m\u001b[1;33m,\u001b[0m \u001b[1;36m2021\u001b[0m\u001b[1;33m)\u001b[0m\u001b[1;33m\u001b[0m\u001b[1;33m\u001b[0m\u001b[0m\n\u001b[0m",
      "\u001b[1;32m~\\AppData\\Local\\Temp/ipykernel_15596/3563783986.py\u001b[0m in \u001b[0;36m__init__\u001b[1;34m(self, day, month, year)\u001b[0m\n\u001b[0;32m     62\u001b[0m             \u001b[0mself\u001b[0m\u001b[1;33m.\u001b[0m\u001b[0mday\u001b[0m \u001b[1;33m=\u001b[0m \u001b[0mday\u001b[0m\u001b[1;33m\u001b[0m\u001b[1;33m\u001b[0m\u001b[0m\n\u001b[0;32m     63\u001b[0m         \u001b[1;32melse\u001b[0m\u001b[1;33m:\u001b[0m\u001b[1;33m\u001b[0m\u001b[1;33m\u001b[0m\u001b[0m\n\u001b[1;32m---> 64\u001b[1;33m             raise ValueError(self.month + \" has only \" + str(days_in_month[self.month])\n\u001b[0m\u001b[0;32m     65\u001b[0m                              + \" days in \" + str(self.year))    \n",
      "\u001b[1;31mValueError\u001b[0m: february has only 28 days in 2021"
     ]
    }
   ],
   "source": [
    "# Creating a wrong day\n",
    "date = Date(29, \"february\", 2021)"
   ]
  },
  {
   "cell_type": "markdown",
   "metadata": {},
   "source": [
    "# More magic methods\n",
    "* In addition to init there are many other magic methods\n",
    "* All of them are named `__name__`\n",
    "* The `__str__(self)` method allows me to specify what should be shown if I print an object\n",
    "* The `__repr__(self)` method allows me to specify what should be shown if I write the name of an object in the interpreter\n",
    "* The `__eq__(self, another_object)` method allows me to compare two objects using `==`. If I don't implement it Python compares the memory addresses"
   ]
  },
  {
   "cell_type": "code",
   "execution_count": null,
   "metadata": {},
   "outputs": [],
   "source": [
    "# An example of a class with some magic methods\n",
    "class Date:\n",
    "    # Init usually has parameters with values for each of the \n",
    "    # attributes. The name of the parameter is usually the same\n",
    "    # name than the attribute, but it is not compulsory\n",
    "    def __init__(self, day:int = 1, month: str = \"january\",\n",
    "                 year: int = 1900):\n",
    "        \"\"\" init method of the class. It checks the provided values\n",
    "        are correct. It also declares by default values in case\n",
    "        we don't want to provide values for all the attributes when\n",
    "        creating the object\"\"\"\n",
    "        # Attributes are declared with self.name_of_attribute\n",
    "        # I check the value provided for the year is correct\n",
    "        if type(year) != int:\n",
    "            raise TypeError(\"Year must be an integer\")\n",
    "        elif year != 0:\n",
    "            # If it is correct, I assign it to the attribute\n",
    "            self.year = year\n",
    "        else:\n",
    "            # In any other case, I raise an exception\n",
    "            raise ValueError(\"Year must be not equal to 0\")\n",
    "        # I also check the month\n",
    "        # Local variable with names of the months\n",
    "        # Once the init method finishes it disappears\n",
    "        months_name = (\"january\", \"february\", \"march\", \"april\", \"may\",\n",
    "                        \"june\", \"july\", \"august\", \"september\", \"october\",\n",
    "                       \"november\", \"december\")\n",
    "        # I will put the month in lowercase              \n",
    "        if type(month) != str:\n",
    "            raise TypeError(\"The month must be a string\")\n",
    "        elif month.lower() in months_name:\n",
    "            self.month = month.lower()\n",
    "        else:\n",
    "            raise ValueError(\"Valid months are \" + str(months_name))\n",
    "        # I check the day is correct, to do it I declare a local\n",
    "        # variable with the days of each month\n",
    "        days_in_month = {'january':31, 'february': 28, \"march\": 31, \"april\":30,\n",
    "                         \"may\": 31, \"june\": 30, \"july\": 31, \"august\": 31,\n",
    "                         \"september\": 30, \"october\": 31, \"november\": 30,\n",
    "                         \"december\":31}\n",
    "        # I calculate the value of the leap year\n",
    "        if self.year % 4 == 0 and (self.year % 100 != 0 \n",
    "                                   or self.year % 400 == 0):\n",
    "            self.leap_year = True\n",
    "            # If it is a leap year, I change the days of February\n",
    "            days_in_month['february'] = 29\n",
    "        else:\n",
    "            self.leap_year = False\n",
    "        # Finally I use the value of the month and leap year to\n",
    "        # check if the day is correct\n",
    "        if type(day) != int:\n",
    "            raise TypeError(\"The day must be an integer\")\n",
    "        elif day > 0 and day <= days_in_month[self.month]:\n",
    "            self.day = day\n",
    "        else:\n",
    "            raise ValueError(self.month + \" has only \" + str(days_in_month[self.month])\n",
    "                             + \" days in \" + str(self.year))  \n",
    "        \n",
    "    def __str__(self):\n",
    "        \"\"\"This method is invoked if I print the object. It must\n",
    "        be called like this, no changes in name, no extra parameters.\n",
    "        It must return the string I want to be shown when printing\"\"\"\n",
    "        if self.leap_year:\n",
    "            le = \" leap year\"\n",
    "        else:\n",
    "            le = \" non-leap year\"\n",
    "        # We will use this local variable to store the string to return\n",
    "        result = (self.month + \", \" + str(self.day) + \" \"\n",
    "                  + str(self.year) + le)\n",
    "        return result\n",
    "    \n",
    "    def __repr__(self):\n",
    "        \"\"\"This method is invoked if I write the name of the object in\n",
    "        the interpreter. It must\n",
    "        be called like this, no changes in name, no extra parameters.\n",
    "        It must return the string I want to be shown\"\"\"\n",
    "        if self.leap_year:\n",
    "            le = \" leap year\"\n",
    "        else:\n",
    "            le = \" non-leap year\"\n",
    "        # We will use this local variable to store the string to return\n",
    "        result = (self.month + \", \" + str(self.day) + \" \"\n",
    "                  + str(self.year) + le)\n",
    "        return result\n",
    "    \n",
    "    def __eq__(self, another):\n",
    "        \"\"\" This is the method Python will invoke if I try to compare\n",
    "        two Date objects. In addition to self it must receive the other\n",
    "        object. It must return true or false\"\"\"\n",
    "        # Instead of creating a local variable we directly return the\n",
    "        # result of the calculation\n",
    "        # Two dates are equal if the values of all their attributes are\n",
    "        # equal\n",
    "        return (self.day == another.day \n",
    "                and self.month == another.month \n",
    "                and self.year == another.year)"
   ]
  },
  {
   "cell_type": "code",
   "execution_count": null,
   "metadata": {},
   "outputs": [
    {
     "name": "stdout",
     "output_type": "stream",
     "text": [
      "november, 24 2020 leap year\n",
      "True\n",
      "False\n"
     ]
    },
    {
     "data": {
      "text/plain": [
       "november, 24 2020 leap year"
      ]
     },
     "execution_count": 30,
     "metadata": {},
     "output_type": "execute_result"
    }
   ],
   "source": [
    "d7 = Date(24, \"november\", 2020)\n",
    "print(d7)\n",
    "d8 = Date(24, \"november\", 2020)\n",
    "print(d7 == d8)\n",
    "d9 = Date(24, \"november\", 2021)\n",
    "print(d7 == d9)\n",
    "d7"
   ]
  },
  {
   "cell_type": "markdown",
   "metadata": {},
   "source": [
    "# Properties\n",
    "* Using an init method (constructor) we can ensure the attributes have a sound initial value. But the user of the class can still give them silly values after creation\n",
    "* All languages have mechanisms to avoid this\n",
    "* In other languages we use private attributes (we will see them later) and methods to read their values and to change them (usually called `get` and `set` methods)"
   ]
  },
  {
   "cell_type": "code",
   "execution_count": null,
   "metadata": {},
   "outputs": [
    {
     "name": "stdout",
     "output_type": "stream",
     "text": [
      "november, 4 2021 non-leap year\n",
      "november, 343 2021 non-leap year\n"
     ]
    }
   ],
   "source": [
    "# I cannot create objects with values for the attributes that make\n",
    "# no sense\n",
    "d = Date(4, \"november\", 2021)\n",
    "print(d)\n",
    "# But I can make them no sense after creation\n",
    "d.day = 343\n",
    "print(d)"
   ]
  },
  {
   "cell_type": "markdown",
   "metadata": {},
   "source": [
    "* Properties are the way Python has to avoid the user of a class to give wrong values to the attributes after the object is created\n",
    "* To use properties in Python we need to do the following:\n",
    "\n",
    ">1. In the init we create the attribute in the regular way `self.attribute = value`. We don't perform any checking of the value. We also use the attribute in the regular way in any other method except for the property and the setter methods that we will create\n",
    ">2. We create a new method with the same name of the attribute for which we want the property to be created (`def attribute(self)`) and decorate it with `@property` (exactly like this)\n",
    ">3. In this special method all I can do is to return the value of the attribute as if it were private (adding two underscores before the name of the attribute: `self.__attribute`). This will allow the external program to read the attribute but not to change it.\n",
    ">4. I need to create a second special method which is called setter, its header will be `def attribute(self, value)` and it must be decorated with `@attribute.setter`. In this method I also use `self.__attribute` if I want to change the value of the attribute. This method will be automatically invoked any time I try to change the value of the attribute, either in the class or in the main program.\n",
    "\n",
    "* In `@property` and `@setter` I can also use `self._attribute` instead of `self.__attribute` but if I do so, in addition to `attribute`, `_attribute` will be also visible outside, which is a non-desired side effect. "
   ]
  },
  {
   "cell_type": "code",
   "execution_count": null,
   "metadata": {},
   "outputs": [],
   "source": [
    "# A Date class with properties to avoid giving a wrong value to the fields\n",
    "class Date:\n",
    "    \"\"\"A class to store a date information. We will use properties to\n",
    "    check the values provided are good\"\"\"\n",
    "\n",
    "    def __init__(self, day: int = 1, month: str = \"january\", \n",
    "                year: int = 1900):\n",
    "        \"\"\" Init method \"\"\"\n",
    "        # No checking is done here, everything is delegated to the setters\n",
    "        self.year = year\n",
    "        # As we can calculate the leap year and we don't want it to be changed\n",
    "        # externally we will create it only as property\n",
    "        self.month = month\n",
    "        # As we need the month to check the values of the day, the day\n",
    "        # attribute must be declared after the month one\n",
    "        self.day = day\n",
    "    \n",
    "    # This @property keyword is called a 'decorator'\n",
    "    @property\n",
    "    def year(self):\n",
    "        \"\"\" This special method will return the value of the year\"\"\"\n",
    "        # Here I must return the value of my attribute as if it were\n",
    "        # private, even if it is not. If I don't do it it will not\n",
    "        # work\n",
    "        return self.__year\n",
    "    \n",
    "    # To avoid this method replacing the previous one, it needs to be\n",
    "    # decorated with @attribute.setter\n",
    "    @year.setter\n",
    "    def year(self, year: int):\n",
    "        \"\"\" This method allows to change the value of the year\"\"\"\n",
    "        # If the type is not correct we raise an exception\n",
    "        if type(year) != int:\n",
    "            raise TypeError(\"The year  must be an int\")\n",
    "        # Here I need to consider year again as if it were private\n",
    "        elif year != 0:\n",
    "            self.__year = year\n",
    "        else:\n",
    "            # In any other case, I raise an exception\n",
    "            raise ValueError(\"Year must be not equal to 0\")\n",
    "            \n",
    "    # For leap year we create only the property as we don´t want\n",
    "    # anyone to change its value\n",
    "    @property\n",
    "    def leap_year(self):\n",
    "        # This is a special property as it has no attribute linked to it\n",
    "        # Properties allow us to create 'fake' read only attributes\n",
    "        # based on other attributes\n",
    "        return self.year % 4 == 0 and (self.year % 100 != 0 \n",
    "                                   or self.year % 400 == 0)\n",
    "    \n",
    "    #We create properties and setters also for day and month\n",
    "    @property\n",
    "    def month(self):\n",
    "        return self.__month\n",
    "    \n",
    "    @month.setter\n",
    "    def month(self, month: str):\n",
    "        months_name = (\"january\", \"february\", \"march\", \"april\", \"may\",\n",
    "                   \"june\", \"july\", \"august\", \"september\", \"october\",\n",
    "                   \"november\", \"december\")\n",
    "        if type(month) != str:\n",
    "            raise TypeError(\"The month must be a string\")\n",
    "        elif month.lower() in months_name:\n",
    "            self.__month = month.lower()\n",
    "        else:\n",
    "            raise ValueError(\"Valid months are \" + str(months_name))\n",
    "    \n",
    "    @property\n",
    "    def day(self):\n",
    "        return self.__day\n",
    "    \n",
    "    @day.setter\n",
    "    def day(self, day: int):\n",
    "        # First checking the days of February\n",
    "        days_in_month = {'january':31, 'february': 28, \"march\": 31, \"april\":30,\n",
    "                         \"may\": 31, \"june\": 30, \"july\": 31, \"august\": 31,\n",
    "                         \"september\": 30, \"october\": 31, \"november\": 30,\n",
    "                         \"december\":31}\n",
    "        # I change the days if leap year\n",
    "        if self.leap_year: \n",
    "            days_in_month['february'] = 29\n",
    "        if type(day) != int:\n",
    "            raise TypeError(\"The day must be an integer\")\n",
    "        elif day > 0 and day <= days_in_month[self.month]:\n",
    "            self.__day = day\n",
    "        else:\n",
    "            raise ValueError(self.month + \" has only \" + str(days_in_month[self.month])\n",
    "                             + \" days in \" + str(self.year))  \n",
    "\n",
    "    def __str__(self):\n",
    "        \"\"\"This method is invoked if I print the object. It must\n",
    "        be called like this, no changes in name, no extra parameters.\n",
    "        It must return the string I want to be shown when printing\"\"\"\n",
    "        if self.leap_year:\n",
    "            le = \" leap year\"\n",
    "        else:\n",
    "            le = \" non-leap year\"\n",
    "        # We will use this local variable to store the string to return\n",
    "        result = (self.month + \", \" + str(self.day) + \" \"\n",
    "                  + str(self.year) + le)\n",
    "        return result\n",
    "    \n",
    "    def __repr__(self):\n",
    "        \"\"\"This method is invoked if I write the name of the object in\n",
    "        the interpreter. It must\n",
    "        be called like this, no changes in name, no extra parameters.\n",
    "        It must return the string I want to be shown\"\"\"\n",
    "        if self.leap_year:\n",
    "            le = \" leap year\"\n",
    "        else:\n",
    "            le = \" non-leap year\"\n",
    "        # We will use this local variable to store the string to return\n",
    "        result = (self.month + \", \" + str(self.day) + \" \"\n",
    "                  + str(self.year) + le)\n",
    "        return result\n",
    "    \n",
    "    def __eq__(self, another):\n",
    "        \"\"\" This is the method Python will invoke if I try to compare\n",
    "        two Date objects. In addition to self it must receive the other\n",
    "        object. It must return true or false\"\"\"\n",
    "        # Instead of creating a local variable we directly return the\n",
    "        # result of the calculation\n",
    "        # Two dates are equal if the values of all their attributes are\n",
    "        # equal\n",
    "        return (self.day == another.day \n",
    "                and self.month == another.month \n",
    "                and self.year == another.year)"
   ]
  },
  {
   "cell_type": "code",
   "execution_count": null,
   "metadata": {},
   "outputs": [
    {
     "ename": "ValueError",
     "evalue": "november has only 30 days in 2021",
     "output_type": "error",
     "traceback": [
      "\u001b[1;31m---------------------------------------------------------------------------\u001b[0m",
      "\u001b[1;31mValueError\u001b[0m                                Traceback (most recent call last)",
      "\u001b[1;32m~\\AppData\\Local\\Temp/ipykernel_14800/2237973694.py\u001b[0m in \u001b[0;36m<module>\u001b[1;34m\u001b[0m\n\u001b[0;32m      1\u001b[0m \u001b[1;31m# If we try to create a wrong month, we get an error\u001b[0m\u001b[1;33m\u001b[0m\u001b[1;33m\u001b[0m\u001b[1;33m\u001b[0m\u001b[0m\n\u001b[1;32m----> 2\u001b[1;33m \u001b[0mmy_date\u001b[0m \u001b[1;33m=\u001b[0m \u001b[0mDate\u001b[0m\u001b[1;33m(\u001b[0m\u001b[1;36m38\u001b[0m\u001b[1;33m,\u001b[0m \u001b[1;34m\"november\"\u001b[0m\u001b[1;33m,\u001b[0m \u001b[1;36m2021\u001b[0m\u001b[1;33m)\u001b[0m\u001b[1;33m\u001b[0m\u001b[1;33m\u001b[0m\u001b[0m\n\u001b[0m",
      "\u001b[1;32m~\\AppData\\Local\\Temp/ipykernel_14800/3126422968.py\u001b[0m in \u001b[0;36m__init__\u001b[1;34m(self, day, month, year)\u001b[0m\n\u001b[0;32m     14\u001b[0m         \u001b[1;31m# As we need the month to check the values of the day, the day\u001b[0m\u001b[1;33m\u001b[0m\u001b[1;33m\u001b[0m\u001b[1;33m\u001b[0m\u001b[0m\n\u001b[0;32m     15\u001b[0m         \u001b[1;31m# attribute must be declared after the month one\u001b[0m\u001b[1;33m\u001b[0m\u001b[1;33m\u001b[0m\u001b[1;33m\u001b[0m\u001b[0m\n\u001b[1;32m---> 16\u001b[1;33m         \u001b[0mself\u001b[0m\u001b[1;33m.\u001b[0m\u001b[0mday\u001b[0m \u001b[1;33m=\u001b[0m \u001b[0mday\u001b[0m\u001b[1;33m\u001b[0m\u001b[1;33m\u001b[0m\u001b[0m\n\u001b[0m\u001b[0;32m     17\u001b[0m \u001b[1;33m\u001b[0m\u001b[0m\n\u001b[0;32m     18\u001b[0m     \u001b[1;31m# This @property keyword is called a 'decorator'\u001b[0m\u001b[1;33m\u001b[0m\u001b[1;33m\u001b[0m\u001b[1;33m\u001b[0m\u001b[0m\n",
      "\u001b[1;32m~\\AppData\\Local\\Temp/ipykernel_14800/3126422968.py\u001b[0m in \u001b[0;36mday\u001b[1;34m(self, day)\u001b[0m\n\u001b[0;32m     86\u001b[0m             \u001b[0mself\u001b[0m\u001b[1;33m.\u001b[0m\u001b[0m__day\u001b[0m \u001b[1;33m=\u001b[0m \u001b[0mday\u001b[0m\u001b[1;33m\u001b[0m\u001b[1;33m\u001b[0m\u001b[0m\n\u001b[0;32m     87\u001b[0m         \u001b[1;32melse\u001b[0m\u001b[1;33m:\u001b[0m\u001b[1;33m\u001b[0m\u001b[1;33m\u001b[0m\u001b[0m\n\u001b[1;32m---> 88\u001b[1;33m             raise ValueError(self.month + \" has only \" + str(days_in_month[self.month])\n\u001b[0m\u001b[0;32m     89\u001b[0m                              + \" days in \" + str(self.year))  \n\u001b[0;32m     90\u001b[0m \u001b[1;33m\u001b[0m\u001b[0m\n",
      "\u001b[1;31mValueError\u001b[0m: november has only 30 days in 2021"
     ]
    }
   ],
   "source": [
    "# If we try to create a wrong month, we get an error\n",
    "# The same would happen for day or year\n",
    "my_date = Date(18, \"movember\", 2021)"
   ]
  },
  {
   "cell_type": "code",
   "execution_count": null,
   "metadata": {},
   "outputs": [],
   "source": [
    "my_date = Date(18,\"november\",2021)\n",
    "# This will also raise an error (not executed to save space)\n",
    "my_date.day = 33"
   ]
  },
  {
   "cell_type": "markdown",
   "metadata": {},
   "source": [
    "# Information hiding: private attributes and methods\n",
    "* Attributes have two main properties:\n",
    "\n",
    ">* They can be used by any method of the class by using the keyword `self.attribute`\n",
    ">* They can be read/written outside the class. When I create an object I can use `obj.attribute` to read/write it (if property/setter have been defined for them, we are really executing the property to read it and the setter to write it, but this is transparent to the user of the class)\n",
    "\n",
    "* If I create a property but not a setter, I will have a kind of read-only attribute, which can be read but not changed.\n",
    "\n",
    "* If I need some variable to be used by any method of the class, but I don't want it to be read/written outside the class I can make it a **private** attribute.\n",
    "* The way to do it is to convert it into an attribute (with `self.`) but name it with `self.__attribute` (unlike in the *magic* methods we don't finish the name with `__`, actually if we do `self.__attribute__` it is no longer a private one)\n",
    "* Private attributes allow for **information hiding**: I hide the way I store the data inside my class, I only show you the information I want you to see, not all the attributes I have inside the class.\n",
    "\n",
    "* Rules for the values stored in a class and the types of variables I should create for them:\n",
    "\n",
    ">* If I need a variable to be read/written outside the class, it should be declared as an attribute (with properties and setters if I need to control its valid values)\n",
    ">* If I need a variable to be read outside the class, but I don't want it to be written outside, I use a property without setter\n",
    ">* If I need a variable to be used only internally but by more than one method, it should be declared as a private attribute\n",
    ">* If variable is going to be used only by one method, it should be declared as a local variable"
   ]
  },
  {
   "cell_type": "code",
   "execution_count": null,
   "metadata": {},
   "outputs": [],
   "source": [
    "class Date:\n",
    "    \"\"\"A class to store a date information. We will use properties to\n",
    "    check the values provided are good and a private attribute\"\"\"\n",
    "\n",
    "    def __init__(self, day: int = 1, month: str = \"january\", \n",
    "                year: int = 1900):\n",
    "        \"\"\" Init method \"\"\"\n",
    "        # I will use this variable to set month and day but I don´t\n",
    "        # want it to be seen outside, so I declare it as a private attribute.\n",
    "        # Notice the leading __ that marks it is private\n",
    "        self.__days_in_month = {'january':31, 'february': 28, \"march\": 31,\n",
    "                                \"april\":30, \"may\": 31, \"june\": 30, \"july\": 31,\n",
    "                                \"august\": 31, \"september\": 30, \"october\": 31,\n",
    "                                \"november\": 30, \"december\":31}\n",
    "        # No checking is done here, everything is delegated to the setters\n",
    "        self.year = year\n",
    "        # As we can calculate the leap year we will create it only as property\n",
    "        self.month = month\n",
    "        # As we need the month to check the values of the day, the day\n",
    "        # attribute must be declared after the month one\n",
    "        self.day = day\n",
    "    \n",
    "    # This @property keyword is called a 'decorator'\n",
    "    @property\n",
    "    def year(self):\n",
    "        \"\"\" This special method will return the value of the year\"\"\"\n",
    "        # Here I must return the value of my attribute as if it were\n",
    "        # private, even if it is not. If I don't do it it will not\n",
    "        # work\n",
    "        return self.__year\n",
    "    \n",
    "    # To avoid this method replacing the previous one, it needs to be\n",
    "    # decorated with @attribute.setter\n",
    "    @year.setter\n",
    "    def year(self, year: int):\n",
    "        \"\"\" This method allows to change the value of the year\"\"\"\n",
    "        # If the type is not correct we raise an exception\n",
    "        if type(year) != int:\n",
    "            raise TypeError(\"The year  must be an int\")\n",
    "        # Here I need to consider year again as if it were private\n",
    "        elif year != 0:\n",
    "            self.__year = year\n",
    "        else:\n",
    "            # In any other case, I raise an exception\n",
    "            raise ValueError(\"Year must be not equal to 0\")\n",
    "            \n",
    "    # For leap year we create only the property as we don´t want\n",
    "    # anyone to change its value\n",
    "    @property\n",
    "    def leap_year(self):\n",
    "        # This is a special property as it has no attribute linked to it\n",
    "        # Properties allow us to create 'fake' read only attributes\n",
    "        # based on other attributes\n",
    "        return self.year % 4 == 0 and (self.year % 100 != 0 \n",
    "                                   or self.year % 400 == 0)\n",
    "    \n",
    "    #We create properties and setters also for day and month\n",
    "    @property\n",
    "    def month(self):\n",
    "        return self.__month\n",
    "    \n",
    "    @month.setter\n",
    "    def month(self, month: str):\n",
    "        if type(month) != str:\n",
    "            raise TypeError(\"The month must be a string\")\n",
    "        elif month.lower() in self.__days_in_month:\n",
    "            self.__month = month.lower()\n",
    "        else:\n",
    "            raise ValueError(\"Valid months are \" \n",
    "                             + str(tuple(self.__days_in_month.keys())))\n",
    "    \n",
    "    @property\n",
    "    def day(self):\n",
    "        return self.__day\n",
    "    \n",
    "    @day.setter\n",
    "    def day(self, day: int):\n",
    "        # I change the days if leap year\n",
    "        if self.leap_year: \n",
    "            self.__days_in_month['february'] = 29\n",
    "        if type(day) != int:\n",
    "            raise TypeError(\"The day must be an integer\")\n",
    "        elif day > 0 and day <= self.__days_in_month[self.month]:\n",
    "            self.__day = day\n",
    "        else:\n",
    "            raise ValueError(self.month + \" has only \" + \n",
    "                             str(self.__days_in_month[self.month])\n",
    "                             + \" days in \" + str(self.year))  \n",
    "\n",
    "    def __str__(self):\n",
    "        \"\"\"This method is invoked if I print the object. It must\n",
    "        be called like this, no changes in name, no extra parameters.\n",
    "        It must return the string I want to be shown when printing\"\"\"\n",
    "        if self.leap_year:\n",
    "            le = \" leap year\"\n",
    "        else:\n",
    "            le = \" non-leap year\"\n",
    "        # We will use this local variable to store the string to return\n",
    "        result = (self.month + \", \" + str(self.day) + \" \"\n",
    "                  + str(self.year) + le)\n",
    "        return result"
   ]
  },
  {
   "cell_type": "code",
   "execution_count": null,
   "metadata": {},
   "outputs": [
    {
     "name": "stdout",
     "output_type": "stream",
     "text": [
      "december, 1 2021 non-leap year\n",
      "october, 1 2021 non-leap year\n"
     ]
    }
   ],
   "source": [
    "# I create the object\n",
    "obj = Date(1, \"december\", 2021)\n",
    "# I can read and change the values of attributes\n",
    "print(obj)\n",
    "obj.month = \"october\"\n",
    "print(obj)\n",
    "# As I converted days_in_month into an attribute, now I could read or\n",
    "# change it in my program, which is something I don't want. That's\n",
    "# the reason why I marked it as a private attribute. Now it cannot\n",
    "# be read neither changed. The following code will raise an error\n",
    "#print(obj.__days_in_month)\n",
    "#obj.__days_in_month[\"february\"] = 31\n",
    "#print(obj.days_in_month)"
   ]
  },
  {
   "cell_type": "markdown",
   "metadata": {},
   "source": [
    "# Composition\n",
    "\n",
    "* In OOP there are two ways to create a class using another class: composition and inheritance.\n",
    "\n",
    "* The easiest one is composition: one of the attributes of a class is an object of another class"
   ]
  },
  {
   "cell_type": "code",
   "execution_count": null,
   "metadata": {},
   "outputs": [],
   "source": [
    "class Student:\n",
    "    \"\"\" A class to represent a student. It uses composition\"\"\"\n",
    "    def __init__(self, name: str, surname: str, birthday: Date):\n",
    "        self.name = name\n",
    "        self.surname = surname\n",
    "        # birthady must be an object of Date class\n",
    "        # we probably should add a property and a setter for it\n",
    "        self.birthday = birthday\n",
    "        \n",
    "    # I don't create properties for name and surname, everything will\n",
    "    # be considered a valid name.\n",
    "    # But for birthday I need to check it is a Date object\n",
    "    @property\n",
    "    def birthday(self):\n",
    "        return self.__birthday\n",
    "    \n",
    "    @birthday.setter\n",
    "    def birthday(self, bd):\n",
    "        if type(bd) != Date:\n",
    "            raise TypeError(\"The birthday must be a date\")\n",
    "        else:\n",
    "            self.__birthday = bd\n",
    "    \n",
    "    def __str__(self):\n",
    "        return self.name + \" \" + self.surname + \" was born on \" + str(self.birthday)"
   ]
  },
  {
   "cell_type": "code",
   "execution_count": null,
   "metadata": {},
   "outputs": [
    {
     "name": "stdout",
     "output_type": "stream",
     "text": [
      "The name of the student is Pepe\n",
      "His born day is 25\n",
      "Pepe Perez was born on december, 1 2002 non-leap year\n"
     ]
    }
   ],
   "source": [
    "# First way to create a composed object\n",
    "# We use an auxiliary variable\n",
    "d = Date(25, \"december\", 1984)\n",
    "st = Student(\"Pepe\", \"Perez\", d)\n",
    "# The name of the student\n",
    "print(\"The name of the student is\", st.name)\n",
    "# The day the student was born\n",
    "print(\"His born day is\", st.birthday.day)\n",
    "# Second way to create a composed object, on the fly\n",
    "st2 = Student(\"Pepe\", \"Perez\", Date(1, \"december\", 2002))\n",
    "print(st2)"
   ]
  },
  {
   "cell_type": "markdown",
   "metadata": {},
   "source": [
    "# Inheritance\n",
    "* A way to create a new class from an existing one (different from composition)\n",
    "* We want to create a new class that has everything that another class has plus some new attributes and new methods and maybe we would like also to modify the implementation of some of the methods.\n",
    "* Inheritance is like copying the code of one class (called mother class or super class) into another one (named child class or subclass), but it has some advantages:\n",
    "\n",
    ">* No need to copy the code, it is done automatically\n",
    ">* Any change done to the mother class will be automatically inherited by the child class (no need to copy it again)\n",
    "\n",
    "* If I want to add new attributes I need to rewrite (overwrite) the `init` method (don't forget to include in the new `init` all the attributes of the mother class, Python does not control it, but it is very important)\n",
    "* If I want to change a method I need to overwrite it, but if I want I can use the old version (the one from the mother class) to do it. In this case the keyword `super()` is used"
   ]
  },
  {
   "cell_type": "code",
   "execution_count": null,
   "metadata": {},
   "outputs": [],
   "source": [
    "# Example of a mother class\n",
    "class Product:\n",
    "    \"\"\" This class represents a product in an online store\"\"\"\n",
    "    def __init__(self, name: str, price: float):\n",
    "        self.name = name\n",
    "        self.price = price\n",
    "    \n",
    "    @property\n",
    "    def price(self):\n",
    "        return self.__price\n",
    "    \n",
    "    @price.setter\n",
    "    def price(self, price):\n",
    "        if type(price) != float and type(price) != int:\n",
    "            raise TypeError(\"The price must be a number\")\n",
    "        elif price < 0:\n",
    "            raise ValueError(\"Do you really want a negative price?\")\n",
    "        else:\n",
    "            self.__price = price\n",
    "    \n",
    "    def __str__(self):\n",
    "        return self.name + \": \" + str(self.price)+\"€\"\n",
    "    \n",
    "    def sale(self):\n",
    "        \"\"\" Reduces the price by a 50%\"\"\"\n",
    "        self.price = round(self.price / 2, 2)\n",
    "        \n",
    "    def __eq__(self, other):\n",
    "        return self.name == other.name"
   ]
  },
  {
   "cell_type": "code",
   "execution_count": null,
   "metadata": {},
   "outputs": [
    {
     "name": "stdout",
     "output_type": "stream",
     "text": [
      "toy: 34.99€\n",
      "toy: 17.5€\n"
     ]
    }
   ],
   "source": [
    "# Creating an object\n",
    "p = Product(\"toy\",34.99)\n",
    "print(p)\n",
    "# Invoking the sale() method\n",
    "p.sale()\n",
    "print(p)"
   ]
  },
  {
   "cell_type": "code",
   "execution_count": null,
   "metadata": {},
   "outputs": [],
   "source": [
    "# This is an example of inheritance, I don't copy the code of the \n",
    "# Product class\n",
    "# I put (Product) in the class header to use inheritance\n",
    "# That indicates that Product is the mother/super class and FreshProduct the\n",
    "# child/sub class\n",
    "class FreshProduct(Product):\n",
    "    \"\"\" This class is a Fresh Product, it has a new method\"\"\"\n",
    "    def rotten_sale(self):\n",
    "        \"\"\" When the fresh product is rotten we give it for free\"\"\"\n",
    "        self.price = 0"
   ]
  },
  {
   "cell_type": "code",
   "execution_count": null,
   "metadata": {},
   "outputs": [
    {
     "name": "stdout",
     "output_type": "stream",
     "text": [
      "apples: 1.2€\n",
      "apples: 0.6€\n",
      "apples: 0€\n"
     ]
    },
    {
     "ename": "ValueError",
     "evalue": "Do you really want a negative price?",
     "output_type": "error",
     "traceback": [
      "\u001b[1;31m---------------------------------------------------------------------------\u001b[0m",
      "\u001b[1;31mValueError\u001b[0m                                Traceback (most recent call last)",
      "\u001b[1;32m~\\AppData\\Local\\Temp/ipykernel_6920/3326067145.py\u001b[0m in \u001b[0;36m<module>\u001b[1;34m\u001b[0m\n\u001b[0;32m      8\u001b[0m \u001b[0mprint\u001b[0m\u001b[1;33m(\u001b[0m\u001b[0mfp\u001b[0m\u001b[1;33m)\u001b[0m\u001b[1;33m\u001b[0m\u001b[1;33m\u001b[0m\u001b[0m\n\u001b[0;32m      9\u001b[0m \u001b[1;31m# I have even the properties of the superclass\u001b[0m\u001b[1;33m\u001b[0m\u001b[1;33m\u001b[0m\u001b[1;33m\u001b[0m\u001b[0m\n\u001b[1;32m---> 10\u001b[1;33m \u001b[0mfp\u001b[0m\u001b[1;33m.\u001b[0m\u001b[0mprice\u001b[0m \u001b[1;33m=\u001b[0m \u001b[1;33m-\u001b[0m\u001b[1;36m1\u001b[0m\u001b[1;33m\u001b[0m\u001b[1;33m\u001b[0m\u001b[0m\n\u001b[0m",
      "\u001b[1;32m~\\AppData\\Local\\Temp/ipykernel_6920/938880043.py\u001b[0m in \u001b[0;36mprice\u001b[1;34m(self, price)\u001b[0m\n\u001b[0;32m     15\u001b[0m             \u001b[1;32mraise\u001b[0m \u001b[0mTypeError\u001b[0m\u001b[1;33m(\u001b[0m\u001b[1;34m\"The price must be a number\"\u001b[0m\u001b[1;33m)\u001b[0m\u001b[1;33m\u001b[0m\u001b[1;33m\u001b[0m\u001b[0m\n\u001b[0;32m     16\u001b[0m         \u001b[1;32melif\u001b[0m \u001b[0mprice\u001b[0m \u001b[1;33m<\u001b[0m \u001b[1;36m0\u001b[0m\u001b[1;33m:\u001b[0m\u001b[1;33m\u001b[0m\u001b[1;33m\u001b[0m\u001b[0m\n\u001b[1;32m---> 17\u001b[1;33m             \u001b[1;32mraise\u001b[0m \u001b[0mValueError\u001b[0m\u001b[1;33m(\u001b[0m\u001b[1;34m\"Do you really want a negative price?\"\u001b[0m\u001b[1;33m)\u001b[0m\u001b[1;33m\u001b[0m\u001b[1;33m\u001b[0m\u001b[0m\n\u001b[0m\u001b[0;32m     18\u001b[0m         \u001b[1;32melse\u001b[0m\u001b[1;33m:\u001b[0m\u001b[1;33m\u001b[0m\u001b[1;33m\u001b[0m\u001b[0m\n\u001b[0;32m     19\u001b[0m             \u001b[0mself\u001b[0m\u001b[1;33m.\u001b[0m\u001b[0m__price\u001b[0m \u001b[1;33m=\u001b[0m \u001b[0mprice\u001b[0m\u001b[1;33m\u001b[0m\u001b[1;33m\u001b[0m\u001b[0m\n",
      "\u001b[1;31mValueError\u001b[0m: Do you really want a negative price?"
     ]
    }
   ],
   "source": [
    "# I can create objects of the subclass\n",
    "fp = FreshProduct(\"apples\", 1.2)\n",
    "print(fp)\n",
    "# Invoking a method of the superclass\n",
    "fp.sale()\n",
    "print(fp)\n",
    "fp.rotten_sale()\n",
    "print(fp)\n",
    "# I have even the properties of the superclass\n",
    "fp.price = -1"
   ]
  },
  {
   "cell_type": "code",
   "execution_count": null,
   "metadata": {},
   "outputs": [],
   "source": [
    "# Subclass that adds a new method and also some attributes to the superclass\n",
    "class FreshProduct(Product):\n",
    "    \n",
    "    # I need to overwrite the init method of the superclass if I want\n",
    "    # to add new attributes\n",
    "    def __init__(self, name: str, price: float, expiration: Date):\n",
    "        # I should not forget to declare again the inherited attributes \n",
    "        self.name = name\n",
    "        self.price = price\n",
    "        # A new attribute\n",
    "        self.expiration = expiration\n",
    "    \n",
    "    @property\n",
    "    def expiration(self):\n",
    "        return self.__expiration\n",
    "    \n",
    "    @expiration.setter\n",
    "    def expiration(self, d):\n",
    "        if type(d) != Date:\n",
    "            raise TypeError(\"The expiration must be a date\")\n",
    "        else:\n",
    "            self.__expiration = d\n",
    "            \n",
    "    # A new method is added to the child class\n",
    "    def rotten_sale(self):\n",
    "        \"\"\" When the fresh product is rotten we give it for free\"\"\"\n",
    "        self.price = 0"
   ]
  },
  {
   "cell_type": "code",
   "execution_count": null,
   "metadata": {},
   "outputs": [
    {
     "name": "stdout",
     "output_type": "stream",
     "text": [
      "melon: 1.2€\n",
      "january, 12 2021 non-leap year\n"
     ]
    }
   ],
   "source": [
    "# Creating an object with the new attribute\n",
    "fp3 = FreshProduct(\"melon\", 1.2, Date(12, \"january\", 2021))\n",
    "print(fp3)\n",
    "# I can see that it has the new attribute\n",
    "print(fp3.expiration)\n",
    "# I still have the mother class properties, this will raise an error\n",
    "# fp3.price = -1"
   ]
  },
  {
   "cell_type": "code",
   "execution_count": null,
   "metadata": {},
   "outputs": [],
   "source": [
    "# Subclass that adds a new method and some attributes to the superclass\n",
    "# It will overwrite __init__ and __str_ using the equivalent methods\n",
    "# of the superclass\n",
    "class FreshProduct(Product):\n",
    "    \n",
    "    # I need to rewrite the init method of the superclass if I want\n",
    "    # to add new attributes\n",
    "    def __init__(self, name: str, price: float, expiration: Date):\n",
    "        # I am reusing the superclass __init__ to avoid rewritting it\n",
    "        # from scratch\n",
    "        # That means go to the super class, find the init method and\n",
    "        # pass to it the values of the parameters\n",
    "        # This is totally equivalent to what we did in the previous example\n",
    "        # But more convenient as I don't need to write attributes again\n",
    "        super().__init__(name, price)\n",
    "        # Creating the new attribute\n",
    "        self.expiration = expiration\n",
    "    \n",
    "    @property\n",
    "    def expiration(self):\n",
    "        return self.__expiration\n",
    "    \n",
    "    @expiration.setter\n",
    "    def expiration(self, d):\n",
    "        if type(d) != Date:\n",
    "            raise TypeError(\"The expiration must be a date\")\n",
    "        else:\n",
    "            self.__expiration = d\n",
    "    \n",
    "    # A new method is added to the child class\n",
    "    def rotten_sale(self):\n",
    "        \"\"\" When the fresh product is rotten we give it for free\"\"\"\n",
    "        self.price = 0\n",
    "   \n",
    "    # Overwritting the __str__ to include the information of the new attribute\n",
    "    def __str__(self):\n",
    "        # I reuse the __str__ of the mother class\n",
    "        return super().__str__() + \" expires on \" + str(self.expiration)"
   ]
  },
  {
   "cell_type": "code",
   "execution_count": null,
   "metadata": {},
   "outputs": [
    {
     "name": "stdout",
     "output_type": "stream",
     "text": [
      "banana: 1.2€ expires on january, 12 2021 non-leap year\n"
     ]
    }
   ],
   "source": [
    "fp4 = FreshProduct(\"banana\", 1.2, Date(12, \"january\", 2021))\n",
    "print(fp4)"
   ]
  },
  {
   "cell_type": "markdown",
   "metadata": {},
   "source": [
    "# Polymorphism\n",
    "* Is the fact that an object of the child class is also an object of the mother class\n",
    "* We can see it with the difference between `type()` and `isinstance()`"
   ]
  },
  {
   "cell_type": "code",
   "execution_count": null,
   "metadata": {},
   "outputs": [
    {
     "name": "stdout",
     "output_type": "stream",
     "text": [
      "<class '__main__.Product'>\n",
      "<class '__main__.FreshProduct'>\n",
      "True\n",
      "True\n",
      "True\n",
      "False\n"
     ]
    }
   ],
   "source": [
    "p = Product(\"toy\", 22.99)\n",
    "fp = FreshProduct(\"apples\", 1.2, Date(12, \"february\", 2021))\n",
    "# The types are Product and FreshProduct, respectively\n",
    "print(type(p))\n",
    "print(type(fp))\n",
    "# Checking if they are instances of their respective classes\n",
    "print(isinstance(p, Product))\n",
    "print(isinstance(fp, FreshProduct))\n",
    "# Thanks to polymorphism this is true too\n",
    "print(isinstance(fp, Product))\n",
    "# Of course the other way is false\n",
    "print(isinstance(p, FreshProduct))"
   ]
  },
  {
   "cell_type": "markdown",
   "metadata": {},
   "source": [
    "# Multiple inheritance\n",
    "* In Python a class can inherit from several classes: `class A(B,C,D)`\n",
    "* If I use `super()` it looks first for the method at B, if it does not find it, it will look at C, and so on\n",
    "* If there are attributes with the same name I will keep only the one that changed last\n",
    "* If I have several methods with the same name, I keep the one of the first mother class in the list of mother classes\n",
    "\n",
    ">* But I can also invoke that method of any other mother class by writing: `MotherClass.method(object, parameters)`"
   ]
  },
  {
   "cell_type": "markdown",
   "metadata": {},
   "source": [
    "# Summary: characteristics of OOP\n",
    "* Encapsulation, inheritance and polymorphism\n",
    "* Encapsulation: dividing my program in modules that contain some data and the algorithms that work with those data. It can be achieved both by OOP (attributes and methods) and by structured programming (global variables and functions). OOP allows also for information hiding: private attributes and properties (getters) and setters"
   ]
  }
 ],
 "metadata": {
  "kernelspec": {
   "display_name": "Python 3 (ipykernel)",
   "language": "python",
   "name": "python3"
  },
  "language_info": {
   "codemirror_mode": {
    "name": "ipython",
    "version": 3
   },
   "file_extension": ".py",
   "mimetype": "text/x-python",
   "name": "python",
   "nbconvert_exporter": "python",
   "pygments_lexer": "ipython3",
   "version": "3.9.1"
  }
 },
 "nbformat": 4,
 "nbformat_minor": 4
}
