{
 "cells": [
  {
   "cell_type": "markdown",
   "metadata": {},
   "source": [
    "# Intro to functions\n",
    "* Definition: Ready-to-use small program that you can use inside your programs, just by writing its name\n",
    "* It is not run when you write it, but when it is invoked (it will not be executed unless you explicitly invoke it)\n",
    "* Examples of built-in functions seen so far: `type()`, `len()`, `print()`, `id()`, `max()`, `min()`, `input()`, `int()`\n",
    "* Also called: sub-routines, sub-programs or procedures\n",
    "* Their goal is to better organize the code\n",
    "* Advantages: code-reuse, implementation hiding, decomposition\n",
    "\n",
    "\n",
    "# Code-reuse\n",
    "* If I have code that needs to be repeated in several parts in my program, instead of *copy and paste* I must use a function (sometimes I could also use loops, but in a very weird way)\n",
    "* Components of a function: \n",
    "\n",
    ">* header(`def function_name():`): specifies the name of the function and other information (we'll see it later)\n",
    ">* docstring explaining what the function is doing (optional)\n",
    ">* body: instructions that implement the function\n",
    "\n",
    "* To create a function I use: \n",
    "\n",
    "```\n",
    "def function_name():\n",
    "    \"\"\" Description of the function\"\"\"\n",
    "    instruction1\n",
    "    instruction2\n",
    "    ...\n",
    "    instructionN\n",
    "   ```\n",
    "\n",
    "* When the former code is interpreted the interpreter does nothing but to keep note that this function has been defined (nothing is executed). I need to invoke it for the code being run.\n",
    "\n",
    "* I need to declare my function before using it (in other languages it is not needed), so usually we put all the functions together at the beginning of the program\n",
    "\n",
    "* Style rules: names should be in small caps and if more than one word use underscores: `this_is_a_valid_function_name`. We can also use lower camel case but it less recommended: `thisIsALessRecommendedFunctionName`"
   ]
  },
  {
   "cell_type": "code",
   "execution_count": 1,
   "metadata": {},
   "outputs": [
    {
     "name": "stdout",
     "output_type": "stream",
     "text": [
      "This is a warm and sunny day in Cape Kennedy\n",
      "We are ready to go to the moon\n",
      "Starting the count-down\n",
      "10, 9, 8, 7, 6, 5, 4, 3, 2, 1, 0, Launching!\n",
      "Houston, Houston, we have problem\n",
      "Returning to Earth\n",
      "This is again a warm and sunny day in Cape Kennedy\n",
      "We are ready to go to the moon\n",
      "Starting the count-down\n",
      "10, 9, 8, 7, 6, 5, 4, 3, 2, 1, 0, Launching!\n",
      "Houston, Houston, everything OK\n",
      "Look the moon, it is like a cheese!\n"
     ]
    }
   ],
   "source": [
    "# This is an example of a program where code reuse would be nice\n",
    "print(\"This is a warm and sunny day in Cape Kennedy\")\n",
    "# Lines 3 to 8 are repeated later\n",
    "print(\"We are ready to go to the moon\")\n",
    "print(\"Starting the count-down\")\n",
    "countdown = 10\n",
    "for counter in range(countdown,-1,-1):\n",
    "    print(counter, end =\", \")\n",
    "print(\"Launching!\")\n",
    "print(\"Houston, Houston, we have problem\")\n",
    "print(\"Returning to Earth\")\n",
    "\n",
    "print(\"This is again a warm and sunny day in Cape Kennedy\")\n",
    "print(\"We are ready to go to the moon\")\n",
    "print(\"Starting the count-down\")\n",
    "for counter in range(countdown,-1,-1):\n",
    "    print(counter, end =\", \")\n",
    "print(\"Launching!\")\n",
    "print(\"Houston, Houston, everything OK\")\n",
    "print(\"Look the moon, it is like a cheese!\")"
   ]
  },
  {
   "cell_type": "code",
   "execution_count": 3,
   "metadata": {},
   "outputs": [
    {
     "name": "stdout",
     "output_type": "stream",
     "text": [
      "This is a warm and sunny day in Cape Kennedy\n",
      "We are ready to go to the moon\n",
      "Starting the count-down\n",
      "10, 9, 8, 7, 6, 5, 4, 3, 2, 1, 0, Launching!\n",
      "Houston, Houston, we have problem\n",
      "Returning to Earth\n",
      "This is again a warm and sunny day in Cape Kennedy\n",
      "We are ready to go to the moon\n",
      "Starting the count-down\n",
      "10, 9, 8, 7, 6, 5, 4, 3, 2, 1, 0, Launching!\n",
      "Houston, Houston, everything OK\n",
      "Look the moon, it is like a cheese!\n"
     ]
    }
   ],
   "source": [
    "# Changing the previous program to use functions\n",
    "def launching():\n",
    "    \"\"\"This is a function simulating the launching of a rocket\n",
    "    to the moon. It counts down from 10 to 1\"\"\"\n",
    "    print(\"We are ready to go to the moon\")\n",
    "    print(\"Starting the count-down\")\n",
    "    countdown = 10\n",
    "    for counter in range(countdown,-1,-1):\n",
    "        print(counter, end =\", \")\n",
    "    print(\"Launching!\")\n",
    "# If I run the code until here, nothing happens, Python is just\n",
    "# storing the function into the memory\n",
    "\n",
    "print(\"This is a warm and sunny day in Cape Kennedy\")\n",
    "# I invoke the function here\n",
    "launching()\n",
    "print(\"Houston, Houston, we have problem\")\n",
    "print(\"Returning to Earth\")\n",
    "\n",
    "print(\"This is again a warm and sunny day in Cape Kennedy\")\n",
    "# I invoke the function here again\n",
    "launching()\n",
    "print(\"Houston, Houston, everything OK\")\n",
    "print(\"Look the moon, it is like a cheese!\")"
   ]
  },
  {
   "cell_type": "markdown",
   "metadata": {},
   "source": [
    "# Parameters\n",
    "* In the previous example the countdown always starts in 10. If we change the value of the `countdown` variable (which is called *local variable*) we can make the program to start in different numbers every time we run our program. But we cannot make the countdown to have different starts in the same program.\n",
    "* If we want to be able to change the value of a local variable each time we invoke a function, we can define it at the header of the function, instead than at the body. Variables defined at the header are called *parameters*.\n",
    "* Parameters allow a function to do slightly different things every time I invoke them. They make functions more generic.\n",
    "* `def <name> (parameter = value):`"
   ]
  },
  {
   "cell_type": "code",
   "execution_count": 5,
   "metadata": {},
   "outputs": [
    {
     "name": "stdout",
     "output_type": "stream",
     "text": [
      "This is a warm and sunny day in Cape Kennedy\n",
      "We are ready to go to the moon\n",
      "Starting the count-down\n",
      "10, 9, 8, 7, 6, 5, 4, 3, 2, 1, 0, Launching!\n",
      "Houston, Houston, we have problem\n",
      "Returning to Earth\n",
      "This is again a warm and sunny day in Cape Kennedy\n",
      "We are ready to go to the moon\n",
      "Starting the count-down\n",
      "20, 19, 18, 17, 16, 15, 14, 13, 12, 11, 10, 9, 8, 7, 6, 5, 4, 3, 2, 1, 0, Launching!\n",
      "Houston, Houston, everything OK\n",
      "Look the moon, it is like a cheese!\n",
      "We are ready to go to the moon\n",
      "Starting the count-down\n",
      "15, 14, 13, 12, 11, 10, 9, 8, 7, 6, 5, 4, 3, 2, 1, 0, Launching!\n"
     ]
    }
   ],
   "source": [
    "# We have converted the local variable countdown into a parameter by\n",
    "# defining it at the header\n",
    "def launching(countdown = 10):\n",
    "    \"\"\"This is a function simulating the launching of a rocket\n",
    "    to the moon. The starting value of countdown can be changed\n",
    "    every time we invoke it\"\"\"\n",
    "    print(\"We are ready to go to the moon\")\n",
    "    print(\"Starting the count-down\")\n",
    "    for counter in range(countdown,-1,-1):\n",
    "        print(counter, end =\", \")\n",
    "    print(\"Launching!\")\n",
    "    \n",
    "# If I run the code until here, nothing happens, Python is just\n",
    "# storing the function into the memory\n",
    "\n",
    "print(\"This is a warm and sunny day in Cape Kennedy\")\n",
    "# I invoke the function here like when there was no parameter\n",
    "# as I don't want to change the value of the parameter\n",
    "launching()\n",
    "print(\"Houston, Houston, we have problem\")\n",
    "print(\"Returning to Earth\")\n",
    "\n",
    "print(\"This is again a warm and sunny day in Cape Kennedy\")\n",
    "# I invoke the function here again, I want to start in 20\n",
    "# So I change the value of the parameter\n",
    "# If I try to do it with a local variable not defined as parameter\n",
    "# I will have an error\n",
    "launching(countdown = 20)\n",
    "print(\"Houston, Houston, everything OK\")\n",
    "print(\"Look the moon, it is like a cheese!\")\n",
    "\n",
    "# We don't need to write the name of the parameter when invoking the \n",
    "# function. We can just put the value.\n",
    "# This is the way we usually invoke a function with one parameter\n",
    "launching(15)"
   ]
  },
  {
   "cell_type": "markdown",
   "metadata": {},
   "source": [
    "## By-default values for parameters\n",
    "* In the previous example the parameter was initialized in the header. The value given is known as the by-default value of the parameter.\n",
    "* But this initialization is not compulsory, I can declare a parameter with no value (actually it is quite common)\n",
    "* In that case I am forced to assign a value to it every time I invoke the function"
   ]
  },
  {
   "cell_type": "code",
   "execution_count": null,
   "metadata": {},
   "outputs": [],
   "source": [
    "# We have converted the local variable countdown into a parameter by\n",
    "# defining it at the header. It has no by-default value\n",
    "def launching(countdown):\n",
    "    \"\"\"This is a function simulating the launching of a rocket\n",
    "    to the moon. It counts down from countdown to 0. Countdown\n",
    "    must be specified when the function is invoked\"\"\"\n",
    "    print(\"We are ready to go to the moon\")\n",
    "    print(\"Starting the count-down\")\n",
    "    for counter in range(countdown,-1,-1):\n",
    "        print(counter, end =\", \")\n",
    "    print(\"Launching!\")\n",
    "    \n",
    "# If I run the code until here, nothing happens, Python is just\n",
    "# storing the function into the memory\n",
    "\n",
    "print(\"This is a warm and sunny day in Cape Kennedy\")\n",
    "# I invoke the function here, now I need to give a value for the\n",
    "# parameter. There are two ways: in this case I directly assign\n",
    "# a value to it\n",
    "launching(start = 10)\n",
    "print(\"Houston, Houston, we have problem\")\n",
    "print(\"Returning to Earth\")\n",
    "\n",
    "print(\"This is again a warm and sunny day in Cape Kennedy\")\n",
    "# I invoke the function here again\n",
    "# Second way of giving a value to the parameter:\n",
    "# I can ommit the name of the parameter when invoking the function\n",
    "# and just put its value (more common way)\n",
    "# Notice that if I try to do launching() with no value for the\n",
    "# parameter an error will raise\n",
    "launching(20)\n",
    "print(\"Houston, Houston, everything OK\")\n",
    "print(\"Look the moon, it is like a cheese!\")"
   ]
  },
  {
   "cell_type": "markdown",
   "metadata": {},
   "source": [
    "## Multiple parameters\n",
    "* A function can have any number of parameters\n",
    "* `def function_name (param1, param2, ... paramN):`\n",
    "* We need to give a value for each parameter when we call a function, if less or more values --> error. Two ways:\n",
    "\n",
    ">* Specify the name of each parameter and its value: `<name>=<value>`, values can be given in any order (`function_name (param1 = value1, param2 = value2, ...)`)\n",
    ">* Give values separated by commas. First parameter takes first value and so on (`function_name (value1, value2, ...)`)"
   ]
  },
  {
   "cell_type": "code",
   "execution_count": 2,
   "metadata": {},
   "outputs": [
    {
     "name": "stdout",
     "output_type": "stream",
     "text": [
      "This is a warm and sunny day in Cape Kennedy\n",
      "We are ready to go to the moon\n",
      "Starting the count-down\n",
      "10, 9, 8, 7, 6, 5, 4, 3, 2, 1, 0, Launching!\n",
      "Houston, Houston, we have problem\n",
      "Returning to Earth\n",
      "This is again a warm and sunny day in Cape Kennedy\n",
      "We are ready to go to the moon\n",
      "Starting the count-down\n",
      "20, 19, 18, 17, 16, 15, 14, 13, 12, 11, 10, 9, 8, 7, 6, 5, 4, 3, 2, 1, 0, Launching!\n",
      "Houston, Houston, everything OK\n",
      "Look the moon, it is like a cheese!\n",
      "We are ready to go to the moon\n",
      "Starting the count-down\n",
      "10, 9, 8, 7, 6, 5, 4, 3, 2, 1, 0, Launching!\n",
      "Houston, Houston, we have problem\n",
      "Returning to Earth\n",
      "We are ready to go to the moon\n",
      "Starting the count-down\n",
      "20, 19, 18, 17, 16, 15, 14, 13, 12, 11, 10, 9, 8, 7, 6, 5, 4, 3, 2, 1, 0, Launching!\n",
      "Houston, Houston, we have problem\n",
      "Returning to Earth\n",
      "We are ready to go to the moon\n",
      "Starting the count-down\n",
      "10, 9, 8, 7, 6, 5, 4, 3, 2, 1, 0, Launching!\n",
      "Houston, Houston, everything OK\n",
      "Look the moon, it is like a cheese!\n"
     ]
    }
   ],
   "source": [
    "# This is an example of a function with 2 parameters\n",
    "def launching(start = 10, success = False):\n",
    "    \"\"\"This is a function simulating the launching of a rocket\n",
    "    to the moon. It has two parameters\"\"\"\n",
    "    # Don't ever start your function changing the value \n",
    "    # of parameters. That's stupid!\n",
    "    # start = 10\n",
    "    # success = False\n",
    "    print(\"We are ready to go to the moon\")\n",
    "    print(\"Starting the count-down\")\n",
    "    # I am using start here even if it has no value\n",
    "    # There is no error because the function is not executed yet\n",
    "    # just stored into memory. The parameter will have a value\n",
    "    # when the function is invoked\n",
    "    for counter in range(start,-1,-1):\n",
    "        print(counter, end =\", \")\n",
    "    print(\"Launching!\")\n",
    "    # Now I check if the launching is successful or not\n",
    "    if not success:\n",
    "        print(\"Houston, Houston, we have problem\")\n",
    "        print(\"Returning to Earth\")\n",
    "    else:\n",
    "        print(\"Houston, Houston, everything OK\")\n",
    "        print(\"Look the moon, it is like a cheese!\")\n",
    "\n",
    "# If I run the code until here, nothing happens, Python is just\n",
    "# storing the function into the memory\n",
    "print(\"This is a warm and sunny day in Cape Kennedy\")        \n",
    "# When I have more than 1 parameter, I can give a value to each one\n",
    "# using its name\n",
    "launching(start = 10, success = False)\n",
    "print(\"This is again a warm and sunny day in Cape Kennedy\")\n",
    "# I can also use their order to give values to the parameters\n",
    "# This is the usual way\n",
    "launching(20, True)\n",
    "# If a function has by-default values for the parameters, the \n",
    "# parameters become optional\n",
    "# I can invoke the function without optional parameters\n",
    "# They will take the by-default values: success is False\n",
    "launching(10)\n",
    "# I can also invoke it with only one of them. It will use the value\n",
    "# for the 1st one and for remaining parameters it will use the by-\n",
    "# default ones. success is False\n",
    "launching(20)\n",
    "# If I want to use the by default value of the first, I need to use\n",
    "# the name of the second. In this case start is 10\n",
    "launching(success = True)"
   ]
  },
  {
   "cell_type": "markdown",
   "metadata": {},
   "source": [
    "## Annotations and type checking\n",
    "* How to specify which are the correct types for each parameter of function?\n",
    "\n",
    ">* To add documentation to the function with `@param param_name: type`. You should do it always this year\n",
    ">* Use annotations in the header with `param_name: type`. This is only a suggestion, it does not avoid you to enter a different type (unlike in other languages where an incorrect type raises an error). You should do it always this year\n",
    ">* Checking the types inside the function. If the types are not correct doing nothing or printing an error message"
   ]
  },
  {
   "cell_type": "code",
   "execution_count": 8,
   "metadata": {},
   "outputs": [
    {
     "name": "stdout",
     "output_type": "stream",
     "text": [
      "Both parameters must be numbers!\n",
      "12\n"
     ]
    }
   ],
   "source": [
    "# An example of a function where we control the types of the\n",
    "# parameters\n",
    "def maximum (first: float, second: float):\n",
    "    \"\"\" This is a function that prints the maximum of the two\n",
    "    parameters received\n",
    "    @param first: a number (int or float)\n",
    "    @param second: a number (int or float)\"\"\"\n",
    "    # We check if types are correct\n",
    "    if ((type(first) == float or type(first) == int) \n",
    "        and (type(second) == float or type(second) == int)):\n",
    "        if first > second:\n",
    "            print(first)\n",
    "        else:\n",
    "            print(second)\n",
    "    else:\n",
    "        print(\"Both parameters must be numbers!\")\n",
    "\n",
    "# Invoking it with wrong types       \n",
    "maximum(2, \"pepe\")\n",
    "# Invoking it with right types. Notice that when we use the param\n",
    "# name, we can give them in any order\n",
    "maximum(second = 12, first = 6)"
   ]
  },
  {
   "cell_type": "markdown",
   "metadata": {},
   "source": [
    "# Returning values\n",
    "* Usually functions don't print, instead they return some value\n",
    "* To return something in a function I use `return value`\n",
    "* **Returning is not printing!!!** Remember this in the exam\n",
    "* I need to store the returned value in a variable in my main program, if not the returned value will be lost\n",
    "* Very often it is better to return the result and decide in the main program if I want to print it or not. This makes my functions more generic.\n",
    "* As a general rule unless there is a good reason for printing, don't print, return instead\n",
    "* We can return more than one value in the form of a tuple\n",
    "* It is a good idea to annotate our functions with the type of the value they return `def name(parameters: type) -> type_of_the_return:`\n",
    "* If a function reaches a return, nothing else is executed in the function, the function is over. Get sure you do everything you want to do in a function before returning"
   ]
  },
  {
   "cell_type": "code",
   "execution_count": 11,
   "metadata": {},
   "outputs": [
    {
     "name": "stdout",
     "output_type": "stream",
     "text": [
      "The sum of the maximums is 13\n",
      "The maximum is 7\n"
     ]
    }
   ],
   "source": [
    "def maximum (first: float, second: float) -> float:\n",
    "    \"\"\" This is a function that prints the maximum of the two\n",
    "    parameters received\n",
    "    @first: a number (int or float)\n",
    "    @second: a number (int or float)\"\"\"\n",
    "    # We check if types are correct\n",
    "    if ((type(first) == float or type(first) == int) \n",
    "        and (type(second) == float or type(second) == int)):\n",
    "        if first > second:\n",
    "        # Notice we are not printing anymore, but returning the \n",
    "        # value of the first parameter\n",
    "            return first\n",
    "        else:\n",
    "            return second\n",
    "    # If not, we do nothing and return None\n",
    "    # This is optional as by default any function ends with a return None\n",
    "    else:\n",
    "        return None\n",
    "\n",
    "# This program sums the maximum of 4 numbers. It cannot be done\n",
    "# if instead of returning I print\n",
    "a = maximum (4, 6)\n",
    "b = maximum (3, 7)\n",
    "print(\"The sum of the maximums is\", a + b)\n",
    "\n",
    "# If I want to print I can always do it by printing the result\n",
    "# of the function, that's the reason why returning is more generic\n",
    "# than printing\n",
    "print(\"The maximum is\", maximum(5, 7))"
   ]
  },
  {
   "cell_type": "code",
   "execution_count": 12,
   "metadata": {},
   "outputs": [
    {
     "name": "stdout",
     "output_type": "stream",
     "text": [
      "(1, 7)\n",
      "1\n",
      "7\n"
     ]
    }
   ],
   "source": [
    "# An example of multiple return\n",
    "# with -> tuple we indicate that we are returning a tuple\n",
    "# This is also an annotation\n",
    "def first_and_last(my_list: list)-> tuple:\n",
    "    \"\"\" This function returns the first and last elements of a\n",
    "    list\n",
    "    @param my_list: a list\n",
    "    @return: a tuple\"\"\"\n",
    "    # If the parameter is not a list, we return nothing\n",
    "    if type(my_list) != list:\n",
    "        return None\n",
    "    else:\n",
    "        # First and last are called local variables\n",
    "        first = my_list[0]\n",
    "        last = my_list[-1]\n",
    "        # If I want to return more than one value I use , \n",
    "        # I am creating a tuple and returning a tuple\n",
    "        return first, last\n",
    "\n",
    "a = first_and_last([1, 4, 5, 7])\n",
    "print(a)\n",
    "# We can also unpack the output to different variables\n",
    "b, c = first_and_last([1, 4, 5, 7])\n",
    "print(b)\n",
    "print(c)"
   ]
  },
  {
   "cell_type": "code",
   "execution_count": 13,
   "metadata": {},
   "outputs": [
    {
     "name": "stdout",
     "output_type": "stream",
     "text": [
      "This is before the return, so it is executed\n"
     ]
    }
   ],
   "source": [
    "# If we reach a return, nothing else is executed\n",
    "def example():\n",
    "    \"\"\" A silly function that has code after the return\"\"\"\n",
    "    print(\"This is before the return, so it is executed\")\n",
    "    # When it finds the return it goes back to the main program\n",
    "    # I could also had used return without the 0\n",
    "    return 0\n",
    "    # Don't ever put code after a return\n",
    "    # This is called dead code and in many languages an error will\n",
    "    # be raisen\n",
    "    print(\"This code is never executed\")\n",
    "    print(\"It is called unreachable or dead code\")\n",
    "    print(\"In other languages it will raise an error\")\n",
    "\n",
    "a = example()"
   ]
  },
  {
   "cell_type": "code",
   "execution_count": 14,
   "metadata": {},
   "outputs": [
    {
     "name": "stdout",
     "output_type": "stream",
     "text": [
      "False\n"
     ]
    }
   ],
   "source": [
    "# This is a valid use of return in a function\n",
    "def has_a_2(my_list: list) -> bool:\n",
    "    \"\"\"This function looks for a 2 in the list and returns\n",
    "    true if it contains a 2\"\"\"\n",
    "    for element in my_list:\n",
    "        if element == 2:\n",
    "            # If we find a 2, we return and 'break' the loop\n",
    "            return True\n",
    "    # If we reach this line, there is no 2 in list\n",
    "    return False\n",
    "\n",
    "var = has_a_2([4, 5, 6, 8, 9, 3])\n",
    "print(var)"
   ]
  },
  {
   "cell_type": "markdown",
   "metadata": {},
   "source": [
    "# More properties of functions\n",
    "* In addition to code-reuse functions allow for decomposition and implementation hiding\n",
    "* Decomposition: creating a program as a sequence of functions that are invoked one after the other. I design my algorithm as a sequence of functions. It is a way of programming by dividing the program into independent steps\n",
    "* Example: you need to create a program that asks the user for a positive number in the range (1, 10), then generate a random list of this number of elements and then to find the minimum of the list. The best way to approach it is to create 3 functions.\n",
    "\n",
    "* Implementation hiding: as long as I keep the same parameters, the same behavior and the same output (return) I can change the code of my function and my program will work the same. Users of a function don't need to know how the function is implemented, and don't need to do any change in their code if the inner code of the function changes."
   ]
  },
  {
   "cell_type": "code",
   "execution_count": 7,
   "metadata": {},
   "outputs": [
    {
     "name": "stdout",
     "output_type": "stream",
     "text": [
      "The maximum of the list [1, 5, 6, 2, 7, 2, 0, 8] is 8\n",
      "The maximum of the list [1, 5, 6, 2, 7, 2, 0, 8] is 8\n"
     ]
    }
   ],
   "source": [
    "# An example of implementation hiding\n",
    "# We have two different implementations of the function, but both\n",
    "# are used the same way\n",
    "\n",
    "def my_max(lis : list)-> int:\n",
    "    \"\"\"Returns the maximum of a list\"\"\"\n",
    "    # Here I use the max() function\n",
    "    return max(lis)\n",
    "\n",
    "a = [1, 5, 6, 2, 7, 2, 0, 8]\n",
    "print(\"The maximum of the list\", a ,\"is\", my_max(a))\n",
    "\n",
    "def my_max(lis : list)-> int:\n",
    "    \"\"\"Returns the maximum of a list\"\"\"\n",
    "    # Here I use a loop\n",
    "    maxim = lis[0]\n",
    "    for elem in lis:\n",
    "        if elem > maxim:\n",
    "            maxim = elem\n",
    "    return elem\n",
    "\n",
    "a = [1, 5, 6, 2, 7, 2, 0, 8]\n",
    "print(\"The maximum of the list\", a ,\"is\", my_max(a))"
   ]
  },
  {
   "cell_type": "markdown",
   "metadata": {},
   "source": [
    "# More about parameters\n",
    "\n",
    "## Optional parameters\n",
    "* As we have seen, in the header of a function we can give by-default values to the parameters. If I invoke the function without giving a value to those parameters they will take the by-default values\n",
    "* This usual are called **optional** parameters as no value needs to be given for them\n",
    "* In the previous examples either all the parameters had by-default value or none of them had it, but in general I will have a mix of required and optional parameters\n",
    "* Rule: if I have parameters without by-default value, they must be declared in the header before the parameters with by-default values"
   ]
  },
  {
   "cell_type": "code",
   "execution_count": 3,
   "metadata": {},
   "outputs": [
    {
     "name": "stdout",
     "output_type": "stream",
     "text": [
      "We are ready to go to the moon\n",
      "Starting the count-down\n",
      "10, 9, 8, 7, 6, 5, 4, 3, 2, 1, 0, Launching!\n",
      "Houston, Houston, we have problem\n",
      "Returning to Earth\n"
     ]
    }
   ],
   "source": [
    "def launching(start, success = False):\n",
    "    \"\"\"This is a function simulating the launching of a rocket\n",
    "    to the moon. It counts down from start to 0. The second parameter\n",
    "    is optional, but the first is required\"\"\"\n",
    "    # Don't ever start your function changing the value \n",
    "    # of parameters. That's stupid!\n",
    "    # start = 10\n",
    "    # success = False\n",
    "    print(\"We are ready to go to the moon\")\n",
    "    print(\"Starting the count-down\")\n",
    "    # I am using start here even if it has no value\n",
    "    # There is no error because the function is not executed yet\n",
    "    # just stored into memory. The parameter will have a value\n",
    "    # when the function is invoked\n",
    "    for counter in range(start,-1,-1):\n",
    "        print(counter, end =\", \")\n",
    "    print(\"Launching!\")\n",
    "    # Now I check if the launching is successful or not\n",
    "    if not success:\n",
    "        print(\"Houston, Houston, we have problem\")\n",
    "        print(\"Returning to Earth\")\n",
    "    else:\n",
    "        print(\"Houston, Houston, everything OK\")\n",
    "        print(\"Look the moon, it is like a cheese!\")\n",
    "\n",
    "# If a function has by-default values for the parameters, the \n",
    "# parameters become optional\n",
    "# I can invoke the function without optional parameters\n",
    "# They will take the by-default values: success is False\n",
    "launching(10)"
   ]
  },
  {
   "cell_type": "markdown",
   "metadata": {},
   "source": [
    "## Packing and unpacking parameters \n",
    "* We can use tuples with parameters in a special way thanks to the `*` operator\n",
    "* First use of `*`: to create a method with a variable number of parameters. I can invoke the function with any number of parameters. It creates a tuple with the parameters I am providing and I can work with this tuple (the `print()` function is an example of such function)\n",
    "* Second use: using a tuple or a list to invoke a function. Each element of the tuple will be assigned to each parameter in order. If I have n parameters the tuple must have n elements"
   ]
  },
  {
   "cell_type": "code",
   "execution_count": 5,
   "metadata": {},
   "outputs": [
    {
     "name": "stdout",
     "output_type": "stream",
     "text": [
      "1\n",
      "6\n",
      "33\n",
      "We are ready to go to the moon\n",
      "Starting the count-down\n",
      "10, 9, 8, 7, 6, 5, 4, 3, 2, 1, 0, Launching!\n",
      "Houston, Houston, we have problem\n",
      "Returning to Earth\n",
      "We are ready to go to the moon\n",
      "Starting the count-down\n",
      "10, 9, 8, 7, 6, 5, 4, 3, 2, 1, 0, Launching!\n",
      "Houston, Houston, we have problem\n",
      "Returning to Earth\n"
     ]
    }
   ],
   "source": [
    "# A function with a variable number of parameters\n",
    "def add(*params: int):\n",
    "    \"\"\" This function adds all the parameters and returns the\n",
    "    result\"\"\"\n",
    "    # params is a tuple\n",
    "    res = 0\n",
    "    for element in params:\n",
    "        res += element\n",
    "    return res\n",
    "# I can invoke my function with any number of parameters\n",
    "a = add(1)\n",
    "b = add(1, 2, 3)\n",
    "c = add(1, 2, 4, 5, 6, 7, 8)\n",
    "print(a)\n",
    "print(b)\n",
    "print(c)\n",
    "\n",
    "# I can use a tuple to give value to all parameters\n",
    "tup = (10, False)\n",
    "# The first element of the tuple will be assigned to the first\n",
    "# parameter and the second element to the second parameter\n",
    "launching(*tup)\n",
    "# This is equivalent to the former\n",
    "launching(tup[0],tup[1])"
   ]
  },
  {
   "cell_type": "markdown",
   "metadata": {},
   "source": [
    "# Variables and functions\n",
    "\n",
    "## Passing by value vs. passing by reference\n",
    "* What happens when we use a variable to give value to a parameter?\n",
    "* I can use variables to give value to parameters. Parameter and variable can have different names\n",
    "* Python uses *pass by value*: when I use a variable to give value to a parameter, the value of the variable is copied into the parameter. We work with the copy and not with the original variable. Nothing done inside the function affects the original variable.\n",
    "* In *pass by reference* we work with the variable itself, we don't copy it. So any change done inside the function is done to the variable\n",
    "* Working one way or another depends on the language, in some languages you can even choose if you pass by value or by reference\n",
    "* Even if Python works with *pass by value*, if the parameter belongs to a  mutable type (lists, dictionaries...), the original variable is affected! So with mutable things Python works as it if was passing by reference\n",
    "* In practice when the parameter belongs to a **mutable** thing, if some change is done to the parameter, the change is done also to the original variable.\n",
    "\n",
    ">* Mutable parameters: I work with the original variable\n",
    ">* Immutable parameters: I work with a copy of the variable\n",
    "\n",
    "* The reason is that for mutable things we work with a pointer and copy the pointer (akin when doing shallow or deep copy)"
   ]
  },
  {
   "cell_type": "code",
   "execution_count": 10,
   "metadata": {},
   "outputs": [
    {
     "name": "stdout",
     "output_type": "stream",
     "text": [
      "10\n",
      "12\n",
      "18\n",
      "The value of the original variable is 9 it didn't change\n",
      "The value of the original variable is 6 it didn't change\n",
      "The original list is [1, 2, 3]\n",
      "The original list after executing the function is [2, 4, 6] it changed\n",
      "The original list is [2, 4, 6]\n",
      "The original list after executing the function is [2, 4, 6] no changes\n"
     ]
    }
   ],
   "source": [
    "# An example of a function that changes the value of a parameter\n",
    "def multiply_by_2(param: int):\n",
    "    param = param * 2\n",
    "    return param\n",
    "\n",
    "# Invoking the function with a literal\n",
    "a = multiply_by_2(5)\n",
    "print(a)\n",
    "\n",
    "# Invoking the function with a variable\n",
    "b = 6\n",
    "a = multiply_by_2(b)\n",
    "print(a)\n",
    "# Parameter and variable can have the same name, no problem\n",
    "param = 9\n",
    "a = multiply_by_2(param)\n",
    "print(a)\n",
    "# In any case, the original variable does not change\n",
    "print(\"The value of the original variable is\", param, \"it didn't change\")\n",
    "print(\"The value of the original variable is\", b, \"it didn't change\")\n",
    "\n",
    "# Different behavior when the paramaters is a list (mutable)\n",
    "def list_by_2(param: list):\n",
    "    for index in range(len(param)):\n",
    "        param[index] = param[index] * 2\n",
    "    return param\n",
    "\n",
    "ls =  [1, 2, 3]\n",
    "print(\"The original list is\", ls)\n",
    "a = list_by_2(ls)\n",
    "print(\"The original list after executing the function is\", ls,\"it changed\")\n",
    "\n",
    "# If I don't want the original variable to change, I must work with\n",
    "# a copy of it\n",
    "def list_by_2(param: list):\n",
    "    # Creating a copy of the list\n",
    "    aux = param.copy()\n",
    "    # Working with the copy\n",
    "    for index in range(len(aux)):\n",
    "        aux[index] = aux[index] * 2\n",
    "    return aux\n",
    "\n",
    "print(\"The original list is\", ls)\n",
    "a = list_by_2(ls)\n",
    "print(\"The original list after executing the function is\", ls,\"no changes\")"
   ]
  },
  {
   "cell_type": "markdown",
   "metadata": {},
   "source": [
    "## Scope of variables\n",
    "* Scope of a variable: the portion of the program where I can use it\n",
    "* Three kind of variables: variables, local variables and parameters\n",
    "\n",
    ">* With regular variables (outside any function): since the moment I declare the variable until the end of the program \n",
    ">* Local variables (declared inside a function) and parameters can only be used inside the function where they are declared: their scope is the function, once the function finishes they disappear\n",
    "\n",
    "* Each function defines a namespace (you can reuse local variable and parameter names in different functions)"
   ]
  },
  {
   "cell_type": "code",
   "execution_count": 11,
   "metadata": {},
   "outputs": [
    {
     "name": "stdout",
     "output_type": "stream",
     "text": [
      "11\n",
      "21\n"
     ]
    }
   ],
   "source": [
    "# A function with a local variable and a parameter\n",
    "# Once the function is over, the local variable and the parameter\n",
    "# do not exist anymore\n",
    "def my_func(param2: int):\n",
    "    local_v = 5\n",
    "    local_v = local_v + param2\n",
    "    return local_v\n",
    "\n",
    "# Another function, notice that we can reuse the names of parameters\n",
    "# and/or local variables\n",
    "def my_func2(param2: int):\n",
    "    local_v = 15\n",
    "    local_v = local_v + param2\n",
    "    return local_v\n",
    "\n",
    "a = my_func(6)\n",
    "print(a)\n",
    "a = my_func2(6)\n",
    "print(a)\n",
    "# If I try to use a parameter or local variable outside the\n",
    "# function where it is declared, I will have an error\n",
    "# These two lines will raise an error\n",
    "# print(param2)\n",
    "# print(local_v)"
   ]
  },
  {
   "cell_type": "markdown",
   "metadata": {},
   "source": [
    "## Global variables\n",
    "* You can skip this section if you want, it is here only for informative purposes\n",
    "* **You shouldn't use global variables in your programs**\n",
    "* Totally forbidden to use them this year: they make programs very difficult to understand\n",
    "* Any regular variable (non-local) defined before a function (and outside it) can be used in the function, but If I change its value, the original variable is not affected (is like I can use it only in read-only mode)\n",
    " \n",
    " >* In the very moment I change its value, it is converted to a local variable and I work with the local, not with the original (the value of the original variable will not be changed)\n",
    "\n",
    "* This is just for immutable variables (with mutable I always work with the original, although there are small details out of the scope of this course)\n",
    "\n",
    "* If I want to change the value of the variable inside the function I need to use the keyword `global`: that tells Python I want to work with the original variable, not to make a copy of it"
   ]
  },
  {
   "cell_type": "code",
   "execution_count": 16,
   "metadata": {},
   "outputs": [
    {
     "name": "stdout",
     "output_type": "stream",
     "text": [
      "The value of a is 5\n",
      "The value of b is 8\n",
      "Executing first function\n",
      "The value of a inside the 1st function is 5\n",
      "The value of b inside the 1st function is 8\n",
      "After the 1st function, the value of a is 5\n",
      "After the 1st function, the value of b is 8\n",
      "Executing 2nd function\n",
      "The value of a inside the 2nd function is 6\n",
      "After the 2nd function, the value of a is 5\n",
      "Executing third function\n",
      "The value of b inside the 3rd function is 12\n",
      "After the 3rd function, the value of b is 12\n"
     ]
    }
   ],
   "source": [
    "# A variable declared before a function\n",
    "a = 5\n",
    "b = 8\n",
    "\n",
    "# A function that uses the variables only to read them\n",
    "def func():\n",
    "    # I can use the variable inside the function, but only to read\n",
    "    # its value\n",
    "    print(\"The value of a inside the 1st function is\", a)\n",
    "    print(\"The value of b inside the 1st function is\", b)\n",
    "\n",
    "# A function that uses the variable but changes its value\n",
    "def func2():\n",
    "    # This creates a new local variable named also 'a' that hides\n",
    "    # the external one\n",
    "    a = 6 \n",
    "    print(\"The value of a inside the 2nd function is\", a)\n",
    "\n",
    "# A function that defines b as global\n",
    "def func3():\n",
    "    global b\n",
    "    # Here we are working with the external b\n",
    "    b = 12\n",
    "    print(\"The value of b inside the 3rd function is\", b)\n",
    "\n",
    "\n",
    "print(\"The value of a is\", a)\n",
    "print(\"The value of b is\", b)\n",
    "print(\"Executing first function\")\n",
    "func()\n",
    "print(\"After the 1st function, the value of a is\", a)\n",
    "print(\"After the 1st function, the value of b is\", b)\n",
    "print(\"Executing 2nd function\")\n",
    "func2()\n",
    "print(\"After the 2nd function, the value of a is\", a)\n",
    "print(\"Executing third function\")\n",
    "func3()\n",
    "print(\"After the 3rd function, the value of b is\", b)"
   ]
  },
  {
   "cell_type": "markdown",
   "metadata": {},
   "source": [
    "# Overloading functions\n",
    "* Overloaded functions are functions with the same name and different parameters\n",
    "* Python does not allow for overloading functions: you cannot declare two functions with the same name. If you do that, the last one will override the first one\n",
    "\n",
    "# Recursion\n",
    "* A powerful programming technique: a function invoking itself.  For problems that have a *base case* that can be solved easily and a way to solve any other case using the *base* one"
   ]
  },
  {
   "cell_type": "code",
   "execution_count": 6,
   "metadata": {},
   "outputs": [
    {
     "name": "stdout",
     "output_type": "stream",
     "text": [
      "120\n"
     ]
    }
   ],
   "source": [
    "def factorial (number: int) -> int:\n",
    "    \"\"\" An example of how to calculate factorial using recursion\"\"\"\n",
    "    # Base case, we can calculate the result easily\n",
    "    if number == 0 or number == 1:\n",
    "        return 1\n",
    "    else:\n",
    "        # General case, we reduce the problem to a simpler one\n",
    "        # In each invocation we ge closer to the base case\n",
    "        return number * factorial (number - 1)\n",
    "    \n",
    "print(factorial(5))"
   ]
  }
 ],
 "metadata": {
  "kernelspec": {
   "display_name": "Python 3 (ipykernel)",
   "language": "python",
   "name": "python3"
  },
  "language_info": {
   "codemirror_mode": {
    "name": "ipython",
    "version": 3
   },
   "file_extension": ".py",
   "mimetype": "text/x-python",
   "name": "python",
   "nbconvert_exporter": "python",
   "pygments_lexer": "ipython3",
   "version": "3.9.5"
  }
 },
 "nbformat": 4,
 "nbformat_minor": 4
}
