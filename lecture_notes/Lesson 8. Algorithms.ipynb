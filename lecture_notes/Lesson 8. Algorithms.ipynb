{
 "cells": [
  {
   "cell_type": "markdown",
   "metadata": {},
   "source": [
    "# Lesson 8. Algorithms"
   ]
  },
  {
   "cell_type": "markdown",
   "metadata": {},
   "source": [
    "## Syllabus\n",
    "\n",
    "* Complexity\n",
    "* Searching\n",
    "* Sorting (very likely to enter in the final exam)"
   ]
  },
  {
   "cell_type": "markdown",
   "metadata": {},
   "source": [
    "## Computational complexity\n",
    "\n",
    "TIME (the one we care most about)\n",
    "space (memory)\n",
    "\n",
    "We use time as a function of the size of the problem.\n",
    "\n",
    "### Big-O notation\n",
    "\n",
    "When we talk about algorithms we consider the worst case, unless the worst case\n",
    "is that unprobable that, is almost impossible, then we talk about the average case.\n",
    "\n",
    "O(n<sup>2)\n",
    "\n",
    "order of n<sup>2\n",
    "\n",
    "O(n)\n",
    "\n",
    "order of n\n",
    "\n",
    "### Order\n",
    "\n",
    "1. Logarithms\n",
    "2. cuadratic\n",
    "3. Polynomial\n",
    "4. Exponential (we consider these ones impossible to solve, they consume a lot memory)\n",
    "\n",
    "### Categories of porblems\n",
    "\n",
    "With all these types of algorihtms, we create types of problems.\n",
    "\n",
    "#### P vs NP\n",
    "\n",
    "We guess that P (polynomial) are not equal to the NP (Non- polynomial, we guess that are exponential, but once we have solution, checking that the solution is right, is polynomial) problems.\n",
    " \n",
    "We think that they are different, because cryptograffy is based on that.\n",
    "\n"
   ]
  },
  {
   "cell_type": "markdown",
   "metadata": {},
   "source": [
    "## Searching\n",
    "\n",
    "two types:\n",
    "\n",
    "linear -> you can do it always -> O(n) -> linear\n",
    "\n",
    "binary -> you only can if it is sorted -> O(log<sub>n</sub>) -> logarithmic (that is better than linear)\n"
   ]
  },
  {
   "cell_type": "markdown",
   "metadata": {},
   "source": [
    "## Sorting\n",
    "\n",
    "two types:\n",
    "\n",
    "* Internal: on the same list + 2 variables\n",
    "\n",
    "* External: use a second list\n",
    "\n",
    "<u>Basic</u>\n",
    "\n",
    "* Bubble \n",
    "* Insertion\n",
    "* Selection\n",
    "\n",
    "<u>Advanced</u>\n",
    "\n",
    "* Quick\n",
    "* Heap\n",
    "* Shell\n",
    "\n",
    "### <u>Bubble sort</u>\n",
    "\n",
    "You are comparing and ordering each elements of the list and if it is minor to \n",
    "the next one you swap them. You do iterations until you do have to sort no more \n",
    "numbers in the next iterarion.\n",
    "\n",
    "Se llama bubble porque es como las burbujas de una botellas, la más grande\n",
    "sube la primera y luego ya van subiendo poco a poco las más pequeñas. En el caso\n",
    "de esto, el número más grande se ordena primero y luego ya van los demás.\n",
    "\n",
    "### <u>Insertion</u>\n",
    "\n",
    "[6, 3, 5, 4, 2, 1]\n",
    "\n",
    "[3, 6, 5, 4, 2, 1]\n",
    "\n",
    "[4, 5, 6, 4, 2, 1]\n",
    "\n",
    "[3, 4, 5, 6, 2, 1]\n",
    "\n",
    "[2, 3, 4, 5, 6, 1]\n",
    "\n",
    "[1, 2, 3, 4, 5, 6]\n",
    "\n",
    "It orders them by cheking by positions\n",
    "\n",
    "Complexity: O(n<sup>2)\n",
    "\n",
    "### <u>Selection</u>\n",
    "\n",
    "You do iterations to find the minimum and maximum, and you sort them by min and\n",
    "max.\n",
    "\n",
    "Complexity: O(n<sup>2)\n",
    "\n",
    "\n"
   ]
  }
 ],
 "metadata": {
  "interpreter": {
   "hash": "aee8b7b246df8f9039afb4144a1f6fd8d2ca17a180786b69acc140d282b71a49"
  },
  "kernelspec": {
   "display_name": "Python 3.9.9 64-bit",
   "language": "python",
   "name": "python3"
  },
  "language_info": {
   "name": "python",
   "version": "3.9.9"
  },
  "orig_nbformat": 4
 },
 "nbformat": 4,
 "nbformat_minor": 2
}
